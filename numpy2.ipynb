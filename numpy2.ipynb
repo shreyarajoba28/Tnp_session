{
 "cells": [
  {
   "cell_type": "code",
   "execution_count": 1,
   "id": "7c8383fa-14eb-4e35-80a7-2c6a36441fdb",
   "metadata": {},
   "outputs": [],
   "source": [
    "import pandas as pd\n",
    "import numpy as np"
   ]
  },
  {
   "cell_type": "code",
   "execution_count": 2,
   "id": "50d96de2-a071-4d53-b80c-121e6992101b",
   "metadata": {},
   "outputs": [],
   "source": [
    "#syntax of series"
   ]
  },
  {
   "cell_type": "code",
   "execution_count": 4,
   "id": "00d79c32-ee40-43f5-94d1-e81c709e1efd",
   "metadata": {},
   "outputs": [
    {
     "name": "stdout",
     "output_type": "stream",
     "text": [
      "0    1\n",
      "1    2\n",
      "2    3\n",
      "3    4\n",
      "4    5\n",
      "dtype: int64\n"
     ]
    }
   ],
   "source": [
    "series = pd.Series([1,2,3,4,5])\n",
    "print(series)"
   ]
  },
  {
   "cell_type": "code",
   "execution_count": 6,
   "id": "2e1f2456-f16f-478e-b226-4d7a961fac1e",
   "metadata": {},
   "outputs": [
    {
     "name": "stdout",
     "output_type": "stream",
     "text": [
      "a    1\n",
      "b    2\n",
      "c    3\n",
      "d    4\n",
      "e    5\n",
      "dtype: int64\n"
     ]
    }
   ],
   "source": [
    "series1 = pd.Series([1,2,3,4,5], index=['a','b','c','d','e'])\n",
    "print(series1)"
   ]
  },
  {
   "cell_type": "code",
   "execution_count": 8,
   "id": "a909630c-5212-46e0-9cd9-e6fdb39e51b2",
   "metadata": {},
   "outputs": [
    {
     "name": "stdout",
     "output_type": "stream",
     "text": [
      "1\n",
      "2\n",
      "3\n",
      "4\n",
      "5\n"
     ]
    }
   ],
   "source": [
    "for i in series1:\n",
    "    print(i)"
   ]
  },
  {
   "cell_type": "code",
   "execution_count": 9,
   "id": "0065ce86-40d6-46d1-a530-e5cde1286f57",
   "metadata": {},
   "outputs": [],
   "source": [
    "#creating series using numpy"
   ]
  },
  {
   "cell_type": "code",
   "execution_count": 10,
   "id": "c390fa06-0c83-4f70-9198-a705687edf7f",
   "metadata": {},
   "outputs": [
    {
     "name": "stdout",
     "output_type": "stream",
     "text": [
      "a    0.782109\n",
      "b   -0.243053\n",
      "c   -0.548238\n",
      "d   -0.822780\n",
      "e    1.194464\n",
      "dtype: float64\n"
     ]
    }
   ],
   "source": [
    "series2 = pd.Series(np.random.randn(5),\n",
    "                   index=['a','b','c','d','e'])\n",
    "print(series2)"
   ]
  },
  {
   "cell_type": "code",
   "execution_count": 11,
   "id": "bf05ae16-3dac-4e57-8466-f0f4e43c984f",
   "metadata": {},
   "outputs": [
    {
     "data": {
      "text/plain": [
       "a    1\n",
       "b    2\n",
       "c    3\n",
       "dtype: int64"
      ]
     },
     "execution_count": 11,
     "metadata": {},
     "output_type": "execute_result"
    }
   ],
   "source": [
    "#creating series using dictionary\n",
    "dictionary = {'a':1,'b':2,'c':3}\n",
    "d1 = pd.Series(dictionary)\n",
    "d1"
   ]
  },
  {
   "cell_type": "code",
   "execution_count": 12,
   "id": "4cbe7604-4af6-4a4d-bd26-aeb657e67282",
   "metadata": {},
   "outputs": [],
   "source": [
    "#dataframe"
   ]
  },
  {
   "cell_type": "code",
   "execution_count": 13,
   "id": "e6dca3c1-5d33-40cc-8aaf-e2e6088eee4f",
   "metadata": {},
   "outputs": [
    {
     "data": {
      "text/plain": [
       "b    2\n",
       "c    3\n",
       "dtype: int64"
      ]
     },
     "execution_count": 13,
     "metadata": {},
     "output_type": "execute_result"
    }
   ],
   "source": [
    "d1.iloc[[1,2]]"
   ]
  },
  {
   "cell_type": "code",
   "execution_count": 14,
   "id": "d11d4cfe-d9fa-4cd9-88bf-b260ecd74d14",
   "metadata": {},
   "outputs": [
    {
     "data": {
      "text/plain": [
       "a    1.782109\n",
       "b    1.756947\n",
       "c    2.451762\n",
       "d    3.177220\n",
       "e    6.194464\n",
       "dtype: float64"
      ]
     },
     "execution_count": 14,
     "metadata": {},
     "output_type": "execute_result"
    }
   ],
   "source": [
    "series1 + series2"
   ]
  },
  {
   "cell_type": "code",
   "execution_count": 15,
   "id": "59a5b4e0-7afa-4ded-9272-8c52c51366f1",
   "metadata": {},
   "outputs": [
    {
     "data": {
      "text/plain": [
       "0   NaN\n",
       "1   NaN\n",
       "2   NaN\n",
       "3   NaN\n",
       "4   NaN\n",
       "a   NaN\n",
       "b   NaN\n",
       "c   NaN\n",
       "d   NaN\n",
       "e   NaN\n",
       "dtype: float64"
      ]
     },
     "execution_count": 15,
     "metadata": {},
     "output_type": "execute_result"
    }
   ],
   "source": [
    "series + series2"
   ]
  },
  {
   "cell_type": "code",
   "execution_count": 16,
   "id": "2854807a-41de-4861-89e7-93c0997f9ebd",
   "metadata": {},
   "outputs": [],
   "source": [
    "#empty dataframe"
   ]
  },
  {
   "cell_type": "code",
   "execution_count": 17,
   "id": "5d222fd8-e22b-4c1e-9548-e8b3d6c52d60",
   "metadata": {},
   "outputs": [
    {
     "name": "stdout",
     "output_type": "stream",
     "text": [
      "Empty DataFrame\n",
      "Columns: []\n",
      "Index: []\n"
     ]
    }
   ],
   "source": [
    "df = pd.DataFrame()\n",
    "print(df)"
   ]
  },
  {
   "cell_type": "code",
   "execution_count": 18,
   "id": "5df3303a-55a5-46d6-b033-abe1fa5fcebe",
   "metadata": {},
   "outputs": [
    {
     "name": "stdout",
     "output_type": "stream",
     "text": [
      "Empty DataFrame\n",
      "Columns: [c1, c2, c3]\n",
      "Index: []\n"
     ]
    }
   ],
   "source": [
    "df = pd.DataFrame(columns = ['c1','c2','c3'])\n",
    "print(df)"
   ]
  },
  {
   "cell_type": "code",
   "execution_count": 20,
   "id": "a415a393-da40-49c4-b354-43416b2ee5e0",
   "metadata": {},
   "outputs": [
    {
     "data": {
      "text/html": [
       "<div>\n",
       "<style scoped>\n",
       "    .dataframe tbody tr th:only-of-type {\n",
       "        vertical-align: middle;\n",
       "    }\n",
       "\n",
       "    .dataframe tbody tr th {\n",
       "        vertical-align: top;\n",
       "    }\n",
       "\n",
       "    .dataframe thead th {\n",
       "        text-align: right;\n",
       "    }\n",
       "</style>\n",
       "<table border=\"1\" class=\"dataframe\">\n",
       "  <thead>\n",
       "    <tr style=\"text-align: right;\">\n",
       "      <th></th>\n",
       "      <th>c1</th>\n",
       "      <th>c2</th>\n",
       "      <th>c3</th>\n",
       "      <th>c4</th>\n",
       "    </tr>\n",
       "  </thead>\n",
       "  <tbody>\n",
       "    <tr>\n",
       "      <th>1</th>\n",
       "      <td>NaN</td>\n",
       "      <td>NaN</td>\n",
       "      <td>NaN</td>\n",
       "      <td>NaN</td>\n",
       "    </tr>\n",
       "    <tr>\n",
       "      <th>2</th>\n",
       "      <td>NaN</td>\n",
       "      <td>NaN</td>\n",
       "      <td>NaN</td>\n",
       "      <td>NaN</td>\n",
       "    </tr>\n",
       "    <tr>\n",
       "      <th>3</th>\n",
       "      <td>NaN</td>\n",
       "      <td>NaN</td>\n",
       "      <td>NaN</td>\n",
       "      <td>NaN</td>\n",
       "    </tr>\n",
       "    <tr>\n",
       "      <th>4</th>\n",
       "      <td>NaN</td>\n",
       "      <td>NaN</td>\n",
       "      <td>NaN</td>\n",
       "      <td>NaN</td>\n",
       "    </tr>\n",
       "    <tr>\n",
       "      <th>5</th>\n",
       "      <td>NaN</td>\n",
       "      <td>NaN</td>\n",
       "      <td>NaN</td>\n",
       "      <td>NaN</td>\n",
       "    </tr>\n",
       "  </tbody>\n",
       "</table>\n",
       "</div>"
      ],
      "text/plain": [
       "    c1   c2   c3   c4\n",
       "1  NaN  NaN  NaN  NaN\n",
       "2  NaN  NaN  NaN  NaN\n",
       "3  NaN  NaN  NaN  NaN\n",
       "4  NaN  NaN  NaN  NaN\n",
       "5  NaN  NaN  NaN  NaN"
      ]
     },
     "execution_count": 20,
     "metadata": {},
     "output_type": "execute_result"
    }
   ],
   "source": [
    "df = pd.DataFrame(columns = ['c1','c2','c3','c4'],\n",
    "                 index = range(1,6))\n",
    "df"
   ]
  },
  {
   "cell_type": "code",
   "execution_count": 21,
   "id": "96656b71-37b8-4c33-971a-955c14694a7f",
   "metadata": {},
   "outputs": [
    {
     "data": {
      "text/html": [
       "<div>\n",
       "<style scoped>\n",
       "    .dataframe tbody tr th:only-of-type {\n",
       "        vertical-align: middle;\n",
       "    }\n",
       "\n",
       "    .dataframe tbody tr th {\n",
       "        vertical-align: top;\n",
       "    }\n",
       "\n",
       "    .dataframe thead th {\n",
       "        text-align: right;\n",
       "    }\n",
       "</style>\n",
       "<table border=\"1\" class=\"dataframe\">\n",
       "  <thead>\n",
       "    <tr style=\"text-align: right;\">\n",
       "      <th></th>\n",
       "      <th>a</th>\n",
       "      <th>b</th>\n",
       "      <th>c</th>\n",
       "    </tr>\n",
       "  </thead>\n",
       "  <tbody>\n",
       "    <tr>\n",
       "      <th>0</th>\n",
       "      <td>1</td>\n",
       "      <td>2</td>\n",
       "      <td>3</td>\n",
       "    </tr>\n",
       "  </tbody>\n",
       "</table>\n",
       "</div>"
      ],
      "text/plain": [
       "   a  b  c\n",
       "0  1  2  3"
      ]
     },
     "execution_count": 21,
     "metadata": {},
     "output_type": "execute_result"
    }
   ],
   "source": [
    "dictionary = {'a':1,'b':2,'c':3}\n",
    "pd.DataFrame([dictionary])"
   ]
  },
  {
   "cell_type": "code",
   "execution_count": 22,
   "id": "4469db1c-59be-4f97-a4d9-f0eabc592829",
   "metadata": {},
   "outputs": [
    {
     "data": {
      "text/plain": [
       "RangeIndex(start=1, stop=6, step=1)"
      ]
     },
     "execution_count": 22,
     "metadata": {},
     "output_type": "execute_result"
    }
   ],
   "source": [
    "df.index"
   ]
  },
  {
   "cell_type": "code",
   "execution_count": 23,
   "id": "cf4dad4f-c9fc-4bfd-8000-3aded637c0fe",
   "metadata": {},
   "outputs": [
    {
     "data": {
      "text/plain": [
       "Index(['c1', 'c2', 'c3', 'c4'], dtype='object')"
      ]
     },
     "execution_count": 23,
     "metadata": {},
     "output_type": "execute_result"
    }
   ],
   "source": [
    "df.columns"
   ]
  },
  {
   "cell_type": "code",
   "execution_count": 25,
   "id": "11ce8a19-129b-4c42-ba79-cdb7bd1d9918",
   "metadata": {},
   "outputs": [
    {
     "data": {
      "text/html": [
       "<div>\n",
       "<style scoped>\n",
       "    .dataframe tbody tr th:only-of-type {\n",
       "        vertical-align: middle;\n",
       "    }\n",
       "\n",
       "    .dataframe tbody tr th {\n",
       "        vertical-align: top;\n",
       "    }\n",
       "\n",
       "    .dataframe thead th {\n",
       "        text-align: right;\n",
       "    }\n",
       "</style>\n",
       "<table border=\"1\" class=\"dataframe\">\n",
       "  <thead>\n",
       "    <tr style=\"text-align: right;\">\n",
       "      <th></th>\n",
       "      <th>0</th>\n",
       "      <th>1</th>\n",
       "    </tr>\n",
       "  </thead>\n",
       "  <tbody>\n",
       "    <tr>\n",
       "      <th>0</th>\n",
       "      <td>Apple</td>\n",
       "      <td>Red</td>\n",
       "    </tr>\n",
       "    <tr>\n",
       "      <th>1</th>\n",
       "      <td>Banana</td>\n",
       "      <td>yellow</td>\n",
       "    </tr>\n",
       "    <tr>\n",
       "      <th>2</th>\n",
       "      <td>Orange</td>\n",
       "      <td>orange</td>\n",
       "    </tr>\n",
       "  </tbody>\n",
       "</table>\n",
       "</div>"
      ],
      "text/plain": [
       "        0       1\n",
       "0   Apple     Red\n",
       "1  Banana  yellow\n",
       "2  Orange  orange"
      ]
     },
     "execution_count": 25,
     "metadata": {},
     "output_type": "execute_result"
    }
   ],
   "source": [
    "mylist = [\n",
    "    ['Apple','Red'],\n",
    "    ['Banana','yellow'],\n",
    "    ['Orange','orange']\n",
    "]\n",
    "mydata = pd.DataFrame(mylist)\n",
    "mydata"
   ]
  },
  {
   "cell_type": "code",
   "execution_count": 27,
   "id": "21b313f6-2cf3-4e0d-a0d6-d3ab54725157",
   "metadata": {},
   "outputs": [
    {
     "data": {
      "text/html": [
       "<div>\n",
       "<style scoped>\n",
       "    .dataframe tbody tr th:only-of-type {\n",
       "        vertical-align: middle;\n",
       "    }\n",
       "\n",
       "    .dataframe tbody tr th {\n",
       "        vertical-align: top;\n",
       "    }\n",
       "\n",
       "    .dataframe thead th {\n",
       "        text-align: right;\n",
       "    }\n",
       "</style>\n",
       "<table border=\"1\" class=\"dataframe\">\n",
       "  <thead>\n",
       "    <tr style=\"text-align: right;\">\n",
       "      <th></th>\n",
       "      <th>Fruit_name</th>\n",
       "      <th>color</th>\n",
       "    </tr>\n",
       "  </thead>\n",
       "  <tbody>\n",
       "    <tr>\n",
       "      <th>0</th>\n",
       "      <td>Apple</td>\n",
       "      <td>Red</td>\n",
       "    </tr>\n",
       "    <tr>\n",
       "      <th>1</th>\n",
       "      <td>Banana</td>\n",
       "      <td>yellow</td>\n",
       "    </tr>\n",
       "    <tr>\n",
       "      <th>2</th>\n",
       "      <td>Orange</td>\n",
       "      <td>orange</td>\n",
       "    </tr>\n",
       "  </tbody>\n",
       "</table>\n",
       "</div>"
      ],
      "text/plain": [
       "  Fruit_name   color\n",
       "0      Apple     Red\n",
       "1     Banana  yellow\n",
       "2     Orange  orange"
      ]
     },
     "execution_count": 27,
     "metadata": {},
     "output_type": "execute_result"
    }
   ],
   "source": [
    "mydata = pd.DataFrame(mylist,columns=['Fruit_name','color'])\n",
    "mydata"
   ]
  },
  {
   "cell_type": "code",
   "execution_count": 29,
   "id": "370928b3-28d8-40b2-a40b-8d9733eb4a4b",
   "metadata": {},
   "outputs": [
    {
     "data": {
      "text/html": [
       "<div>\n",
       "<style scoped>\n",
       "    .dataframe tbody tr th:only-of-type {\n",
       "        vertical-align: middle;\n",
       "    }\n",
       "\n",
       "    .dataframe tbody tr th {\n",
       "        vertical-align: top;\n",
       "    }\n",
       "\n",
       "    .dataframe thead th {\n",
       "        text-align: right;\n",
       "    }\n",
       "</style>\n",
       "<table border=\"1\" class=\"dataframe\">\n",
       "  <thead>\n",
       "    <tr style=\"text-align: right;\">\n",
       "      <th></th>\n",
       "      <th>name</th>\n",
       "      <th>calories</th>\n",
       "      <th>protein</th>\n",
       "      <th>vitamins</th>\n",
       "      <th>rating</th>\n",
       "    </tr>\n",
       "  </thead>\n",
       "  <tbody>\n",
       "    <tr>\n",
       "      <th>0</th>\n",
       "      <td>100% Bran</td>\n",
       "      <td>70</td>\n",
       "      <td>4</td>\n",
       "      <td>25</td>\n",
       "      <td>68.402973</td>\n",
       "    </tr>\n",
       "    <tr>\n",
       "      <th>1</th>\n",
       "      <td>100% Natural Bran</td>\n",
       "      <td>120</td>\n",
       "      <td>3</td>\n",
       "      <td>0</td>\n",
       "      <td>33.983679</td>\n",
       "    </tr>\n",
       "    <tr>\n",
       "      <th>2</th>\n",
       "      <td>All-Bran</td>\n",
       "      <td>70</td>\n",
       "      <td>4</td>\n",
       "      <td>25</td>\n",
       "      <td>59.425505</td>\n",
       "    </tr>\n",
       "    <tr>\n",
       "      <th>3</th>\n",
       "      <td>All-Bran with Extra Fiber</td>\n",
       "      <td>50</td>\n",
       "      <td>4</td>\n",
       "      <td>25</td>\n",
       "      <td>93.704912</td>\n",
       "    </tr>\n",
       "    <tr>\n",
       "      <th>4</th>\n",
       "      <td>Almond Delight</td>\n",
       "      <td>110</td>\n",
       "      <td>2</td>\n",
       "      <td>25</td>\n",
       "      <td>34.384843</td>\n",
       "    </tr>\n",
       "    <tr>\n",
       "      <th>5</th>\n",
       "      <td>Apple Cinnamon Cheerios</td>\n",
       "      <td>110</td>\n",
       "      <td>2</td>\n",
       "      <td>25</td>\n",
       "      <td>29.509541</td>\n",
       "    </tr>\n",
       "    <tr>\n",
       "      <th>6</th>\n",
       "      <td>Apple Jacks</td>\n",
       "      <td>110</td>\n",
       "      <td>2</td>\n",
       "      <td>25</td>\n",
       "      <td>33.174094</td>\n",
       "    </tr>\n",
       "    <tr>\n",
       "      <th>7</th>\n",
       "      <td>Basic 4</td>\n",
       "      <td>130</td>\n",
       "      <td>3</td>\n",
       "      <td>25</td>\n",
       "      <td>37.038562</td>\n",
       "    </tr>\n",
       "    <tr>\n",
       "      <th>8</th>\n",
       "      <td>Bran Chex</td>\n",
       "      <td>90</td>\n",
       "      <td>2</td>\n",
       "      <td>25</td>\n",
       "      <td>49.120253</td>\n",
       "    </tr>\n",
       "    <tr>\n",
       "      <th>9</th>\n",
       "      <td>Bran Flakes</td>\n",
       "      <td>90</td>\n",
       "      <td>3</td>\n",
       "      <td>25</td>\n",
       "      <td>53.313813</td>\n",
       "    </tr>\n",
       "  </tbody>\n",
       "</table>\n",
       "</div>"
      ],
      "text/plain": [
       "                        name  calories  protein  vitamins     rating\n",
       "0                  100% Bran        70        4        25  68.402973\n",
       "1          100% Natural Bran       120        3         0  33.983679\n",
       "2                   All-Bran        70        4        25  59.425505\n",
       "3  All-Bran with Extra Fiber        50        4        25  93.704912\n",
       "4             Almond Delight       110        2        25  34.384843\n",
       "5    Apple Cinnamon Cheerios       110        2        25  29.509541\n",
       "6                Apple Jacks       110        2        25  33.174094\n",
       "7                    Basic 4       130        3        25  37.038562\n",
       "8                  Bran Chex        90        2        25  49.120253\n",
       "9                Bran Flakes        90        3        25  53.313813"
      ]
     },
     "execution_count": 29,
     "metadata": {},
     "output_type": "execute_result"
    }
   ],
   "source": [
    "df = pd.read_csv(\"cereals.csv\")\n",
    "df"
   ]
  },
  {
   "cell_type": "code",
   "execution_count": 31,
   "id": "8e39df6c-b685-4c99-b789-e0007ec7755a",
   "metadata": {},
   "outputs": [
    {
     "data": {
      "text/html": [
       "<div>\n",
       "<style scoped>\n",
       "    .dataframe tbody tr th:only-of-type {\n",
       "        vertical-align: middle;\n",
       "    }\n",
       "\n",
       "    .dataframe tbody tr th {\n",
       "        vertical-align: top;\n",
       "    }\n",
       "\n",
       "    .dataframe thead th {\n",
       "        text-align: right;\n",
       "    }\n",
       "</style>\n",
       "<table border=\"1\" class=\"dataframe\">\n",
       "  <thead>\n",
       "    <tr style=\"text-align: right;\">\n",
       "      <th></th>\n",
       "      <th>calories</th>\n",
       "      <th>protein</th>\n",
       "      <th>vitamins</th>\n",
       "      <th>rating</th>\n",
       "    </tr>\n",
       "    <tr>\n",
       "      <th>name</th>\n",
       "      <th></th>\n",
       "      <th></th>\n",
       "      <th></th>\n",
       "      <th></th>\n",
       "    </tr>\n",
       "  </thead>\n",
       "  <tbody>\n",
       "    <tr>\n",
       "      <th>100% Bran</th>\n",
       "      <td>70</td>\n",
       "      <td>4</td>\n",
       "      <td>25</td>\n",
       "      <td>68.402973</td>\n",
       "    </tr>\n",
       "    <tr>\n",
       "      <th>100% Natural Bran</th>\n",
       "      <td>120</td>\n",
       "      <td>3</td>\n",
       "      <td>0</td>\n",
       "      <td>33.983679</td>\n",
       "    </tr>\n",
       "    <tr>\n",
       "      <th>All-Bran</th>\n",
       "      <td>70</td>\n",
       "      <td>4</td>\n",
       "      <td>25</td>\n",
       "      <td>59.425505</td>\n",
       "    </tr>\n",
       "    <tr>\n",
       "      <th>All-Bran with Extra Fiber</th>\n",
       "      <td>50</td>\n",
       "      <td>4</td>\n",
       "      <td>25</td>\n",
       "      <td>93.704912</td>\n",
       "    </tr>\n",
       "    <tr>\n",
       "      <th>Almond Delight</th>\n",
       "      <td>110</td>\n",
       "      <td>2</td>\n",
       "      <td>25</td>\n",
       "      <td>34.384843</td>\n",
       "    </tr>\n",
       "    <tr>\n",
       "      <th>Apple Cinnamon Cheerios</th>\n",
       "      <td>110</td>\n",
       "      <td>2</td>\n",
       "      <td>25</td>\n",
       "      <td>29.509541</td>\n",
       "    </tr>\n",
       "    <tr>\n",
       "      <th>Apple Jacks</th>\n",
       "      <td>110</td>\n",
       "      <td>2</td>\n",
       "      <td>25</td>\n",
       "      <td>33.174094</td>\n",
       "    </tr>\n",
       "    <tr>\n",
       "      <th>Basic 4</th>\n",
       "      <td>130</td>\n",
       "      <td>3</td>\n",
       "      <td>25</td>\n",
       "      <td>37.038562</td>\n",
       "    </tr>\n",
       "    <tr>\n",
       "      <th>Bran Chex</th>\n",
       "      <td>90</td>\n",
       "      <td>2</td>\n",
       "      <td>25</td>\n",
       "      <td>49.120253</td>\n",
       "    </tr>\n",
       "    <tr>\n",
       "      <th>Bran Flakes</th>\n",
       "      <td>90</td>\n",
       "      <td>3</td>\n",
       "      <td>25</td>\n",
       "      <td>53.313813</td>\n",
       "    </tr>\n",
       "  </tbody>\n",
       "</table>\n",
       "</div>"
      ],
      "text/plain": [
       "                           calories  protein  vitamins     rating\n",
       "name                                                             \n",
       "100% Bran                        70        4        25  68.402973\n",
       "100% Natural Bran               120        3         0  33.983679\n",
       "All-Bran                         70        4        25  59.425505\n",
       "All-Bran with Extra Fiber        50        4        25  93.704912\n",
       "Almond Delight                  110        2        25  34.384843\n",
       "Apple Cinnamon Cheerios         110        2        25  29.509541\n",
       "Apple Jacks                     110        2        25  33.174094\n",
       "Basic 4                         130        3        25  37.038562\n",
       "Bran Chex                        90        2        25  49.120253\n",
       "Bran Flakes                      90        3        25  53.313813"
      ]
     },
     "execution_count": 31,
     "metadata": {},
     "output_type": "execute_result"
    }
   ],
   "source": [
    "df.set_index('name')"
   ]
  },
  {
   "cell_type": "code",
   "execution_count": 32,
   "id": "27708c2c-b059-4d1b-a2f2-596f30d507d8",
   "metadata": {},
   "outputs": [
    {
     "data": {
      "text/html": [
       "<div>\n",
       "<style scoped>\n",
       "    .dataframe tbody tr th:only-of-type {\n",
       "        vertical-align: middle;\n",
       "    }\n",
       "\n",
       "    .dataframe tbody tr th {\n",
       "        vertical-align: top;\n",
       "    }\n",
       "\n",
       "    .dataframe thead th {\n",
       "        text-align: right;\n",
       "    }\n",
       "</style>\n",
       "<table border=\"1\" class=\"dataframe\">\n",
       "  <thead>\n",
       "    <tr style=\"text-align: right;\">\n",
       "      <th></th>\n",
       "      <th>name</th>\n",
       "      <th>calories</th>\n",
       "      <th>protein</th>\n",
       "      <th>vitamins</th>\n",
       "      <th>rating</th>\n",
       "    </tr>\n",
       "  </thead>\n",
       "  <tbody>\n",
       "    <tr>\n",
       "      <th>0</th>\n",
       "      <td>100% Bran</td>\n",
       "      <td>70</td>\n",
       "      <td>4</td>\n",
       "      <td>25</td>\n",
       "      <td>68.402973</td>\n",
       "    </tr>\n",
       "    <tr>\n",
       "      <th>1</th>\n",
       "      <td>100% Natural Bran</td>\n",
       "      <td>120</td>\n",
       "      <td>3</td>\n",
       "      <td>0</td>\n",
       "      <td>33.983679</td>\n",
       "    </tr>\n",
       "    <tr>\n",
       "      <th>2</th>\n",
       "      <td>All-Bran</td>\n",
       "      <td>70</td>\n",
       "      <td>4</td>\n",
       "      <td>25</td>\n",
       "      <td>59.425505</td>\n",
       "    </tr>\n",
       "    <tr>\n",
       "      <th>3</th>\n",
       "      <td>All-Bran with Extra Fiber</td>\n",
       "      <td>50</td>\n",
       "      <td>4</td>\n",
       "      <td>25</td>\n",
       "      <td>93.704912</td>\n",
       "    </tr>\n",
       "    <tr>\n",
       "      <th>4</th>\n",
       "      <td>Almond Delight</td>\n",
       "      <td>110</td>\n",
       "      <td>2</td>\n",
       "      <td>25</td>\n",
       "      <td>34.384843</td>\n",
       "    </tr>\n",
       "  </tbody>\n",
       "</table>\n",
       "</div>"
      ],
      "text/plain": [
       "                        name  calories  protein  vitamins     rating\n",
       "0                  100% Bran        70        4        25  68.402973\n",
       "1          100% Natural Bran       120        3         0  33.983679\n",
       "2                   All-Bran        70        4        25  59.425505\n",
       "3  All-Bran with Extra Fiber        50        4        25  93.704912\n",
       "4             Almond Delight       110        2        25  34.384843"
      ]
     },
     "execution_count": 32,
     "metadata": {},
     "output_type": "execute_result"
    }
   ],
   "source": [
    "df.head()"
   ]
  },
  {
   "cell_type": "code",
   "execution_count": 33,
   "id": "d5f2dda8-9d08-414e-bcfc-6094fba6533a",
   "metadata": {},
   "outputs": [
    {
     "data": {
      "text/html": [
       "<div>\n",
       "<style scoped>\n",
       "    .dataframe tbody tr th:only-of-type {\n",
       "        vertical-align: middle;\n",
       "    }\n",
       "\n",
       "    .dataframe tbody tr th {\n",
       "        vertical-align: top;\n",
       "    }\n",
       "\n",
       "    .dataframe thead th {\n",
       "        text-align: right;\n",
       "    }\n",
       "</style>\n",
       "<table border=\"1\" class=\"dataframe\">\n",
       "  <thead>\n",
       "    <tr style=\"text-align: right;\">\n",
       "      <th></th>\n",
       "      <th>name</th>\n",
       "      <th>calories</th>\n",
       "      <th>protein</th>\n",
       "      <th>vitamins</th>\n",
       "      <th>rating</th>\n",
       "    </tr>\n",
       "  </thead>\n",
       "  <tbody>\n",
       "    <tr>\n",
       "      <th>5</th>\n",
       "      <td>Apple Cinnamon Cheerios</td>\n",
       "      <td>110</td>\n",
       "      <td>2</td>\n",
       "      <td>25</td>\n",
       "      <td>29.509541</td>\n",
       "    </tr>\n",
       "    <tr>\n",
       "      <th>6</th>\n",
       "      <td>Apple Jacks</td>\n",
       "      <td>110</td>\n",
       "      <td>2</td>\n",
       "      <td>25</td>\n",
       "      <td>33.174094</td>\n",
       "    </tr>\n",
       "    <tr>\n",
       "      <th>7</th>\n",
       "      <td>Basic 4</td>\n",
       "      <td>130</td>\n",
       "      <td>3</td>\n",
       "      <td>25</td>\n",
       "      <td>37.038562</td>\n",
       "    </tr>\n",
       "    <tr>\n",
       "      <th>8</th>\n",
       "      <td>Bran Chex</td>\n",
       "      <td>90</td>\n",
       "      <td>2</td>\n",
       "      <td>25</td>\n",
       "      <td>49.120253</td>\n",
       "    </tr>\n",
       "    <tr>\n",
       "      <th>9</th>\n",
       "      <td>Bran Flakes</td>\n",
       "      <td>90</td>\n",
       "      <td>3</td>\n",
       "      <td>25</td>\n",
       "      <td>53.313813</td>\n",
       "    </tr>\n",
       "  </tbody>\n",
       "</table>\n",
       "</div>"
      ],
      "text/plain": [
       "                      name  calories  protein  vitamins     rating\n",
       "5  Apple Cinnamon Cheerios       110        2        25  29.509541\n",
       "6              Apple Jacks       110        2        25  33.174094\n",
       "7                  Basic 4       130        3        25  37.038562\n",
       "8                Bran Chex        90        2        25  49.120253\n",
       "9              Bran Flakes        90        3        25  53.313813"
      ]
     },
     "execution_count": 33,
     "metadata": {},
     "output_type": "execute_result"
    }
   ],
   "source": [
    "df.tail()"
   ]
  },
  {
   "cell_type": "code",
   "execution_count": 34,
   "id": "012246b4-4a92-4e54-9118-0a37cc0a4568",
   "metadata": {},
   "outputs": [
    {
     "data": {
      "text/html": [
       "<div>\n",
       "<style scoped>\n",
       "    .dataframe tbody tr th:only-of-type {\n",
       "        vertical-align: middle;\n",
       "    }\n",
       "\n",
       "    .dataframe tbody tr th {\n",
       "        vertical-align: top;\n",
       "    }\n",
       "\n",
       "    .dataframe thead th {\n",
       "        text-align: right;\n",
       "    }\n",
       "</style>\n",
       "<table border=\"1\" class=\"dataframe\">\n",
       "  <thead>\n",
       "    <tr style=\"text-align: right;\">\n",
       "      <th></th>\n",
       "      <th>calories</th>\n",
       "      <th>protein</th>\n",
       "      <th>vitamins</th>\n",
       "      <th>rating</th>\n",
       "    </tr>\n",
       "  </thead>\n",
       "  <tbody>\n",
       "    <tr>\n",
       "      <th>count</th>\n",
       "      <td>10.000000</td>\n",
       "      <td>10.000000</td>\n",
       "      <td>10.000000</td>\n",
       "      <td>10.000000</td>\n",
       "    </tr>\n",
       "    <tr>\n",
       "      <th>mean</th>\n",
       "      <td>95.000000</td>\n",
       "      <td>2.900000</td>\n",
       "      <td>22.500000</td>\n",
       "      <td>49.205817</td>\n",
       "    </tr>\n",
       "    <tr>\n",
       "      <th>std</th>\n",
       "      <td>25.495098</td>\n",
       "      <td>0.875595</td>\n",
       "      <td>7.905694</td>\n",
       "      <td>20.315297</td>\n",
       "    </tr>\n",
       "    <tr>\n",
       "      <th>min</th>\n",
       "      <td>50.000000</td>\n",
       "      <td>2.000000</td>\n",
       "      <td>0.000000</td>\n",
       "      <td>29.509541</td>\n",
       "    </tr>\n",
       "    <tr>\n",
       "      <th>25%</th>\n",
       "      <td>75.000000</td>\n",
       "      <td>2.000000</td>\n",
       "      <td>25.000000</td>\n",
       "      <td>34.083970</td>\n",
       "    </tr>\n",
       "    <tr>\n",
       "      <th>50%</th>\n",
       "      <td>100.000000</td>\n",
       "      <td>3.000000</td>\n",
       "      <td>25.000000</td>\n",
       "      <td>43.079408</td>\n",
       "    </tr>\n",
       "    <tr>\n",
       "      <th>75%</th>\n",
       "      <td>110.000000</td>\n",
       "      <td>3.750000</td>\n",
       "      <td>25.000000</td>\n",
       "      <td>57.897582</td>\n",
       "    </tr>\n",
       "    <tr>\n",
       "      <th>max</th>\n",
       "      <td>130.000000</td>\n",
       "      <td>4.000000</td>\n",
       "      <td>25.000000</td>\n",
       "      <td>93.704912</td>\n",
       "    </tr>\n",
       "  </tbody>\n",
       "</table>\n",
       "</div>"
      ],
      "text/plain": [
       "         calories    protein   vitamins     rating\n",
       "count   10.000000  10.000000  10.000000  10.000000\n",
       "mean    95.000000   2.900000  22.500000  49.205817\n",
       "std     25.495098   0.875595   7.905694  20.315297\n",
       "min     50.000000   2.000000   0.000000  29.509541\n",
       "25%     75.000000   2.000000  25.000000  34.083970\n",
       "50%    100.000000   3.000000  25.000000  43.079408\n",
       "75%    110.000000   3.750000  25.000000  57.897582\n",
       "max    130.000000   4.000000  25.000000  93.704912"
      ]
     },
     "execution_count": 34,
     "metadata": {},
     "output_type": "execute_result"
    }
   ],
   "source": [
    "df.describe()"
   ]
  },
  {
   "cell_type": "code",
   "execution_count": 37,
   "id": "92ad3d14-92ba-4e1d-a6ce-310363996ec1",
   "metadata": {},
   "outputs": [
    {
     "data": {
      "text/html": [
       "<div>\n",
       "<style scoped>\n",
       "    .dataframe tbody tr th:only-of-type {\n",
       "        vertical-align: middle;\n",
       "    }\n",
       "\n",
       "    .dataframe tbody tr th {\n",
       "        vertical-align: top;\n",
       "    }\n",
       "\n",
       "    .dataframe thead th {\n",
       "        text-align: right;\n",
       "    }\n",
       "</style>\n",
       "<table border=\"1\" class=\"dataframe\">\n",
       "  <thead>\n",
       "    <tr style=\"text-align: right;\">\n",
       "      <th></th>\n",
       "      <th>calories</th>\n",
       "      <th>rating</th>\n",
       "    </tr>\n",
       "  </thead>\n",
       "  <tbody>\n",
       "    <tr>\n",
       "      <th>0</th>\n",
       "      <td>70</td>\n",
       "      <td>68.402973</td>\n",
       "    </tr>\n",
       "    <tr>\n",
       "      <th>1</th>\n",
       "      <td>120</td>\n",
       "      <td>33.983679</td>\n",
       "    </tr>\n",
       "    <tr>\n",
       "      <th>2</th>\n",
       "      <td>70</td>\n",
       "      <td>59.425505</td>\n",
       "    </tr>\n",
       "    <tr>\n",
       "      <th>3</th>\n",
       "      <td>50</td>\n",
       "      <td>93.704912</td>\n",
       "    </tr>\n",
       "    <tr>\n",
       "      <th>4</th>\n",
       "      <td>110</td>\n",
       "      <td>34.384843</td>\n",
       "    </tr>\n",
       "    <tr>\n",
       "      <th>5</th>\n",
       "      <td>110</td>\n",
       "      <td>29.509541</td>\n",
       "    </tr>\n",
       "    <tr>\n",
       "      <th>6</th>\n",
       "      <td>110</td>\n",
       "      <td>33.174094</td>\n",
       "    </tr>\n",
       "    <tr>\n",
       "      <th>7</th>\n",
       "      <td>130</td>\n",
       "      <td>37.038562</td>\n",
       "    </tr>\n",
       "    <tr>\n",
       "      <th>8</th>\n",
       "      <td>90</td>\n",
       "      <td>49.120253</td>\n",
       "    </tr>\n",
       "    <tr>\n",
       "      <th>9</th>\n",
       "      <td>90</td>\n",
       "      <td>53.313813</td>\n",
       "    </tr>\n",
       "  </tbody>\n",
       "</table>\n",
       "</div>"
      ],
      "text/plain": [
       "   calories     rating\n",
       "0        70  68.402973\n",
       "1       120  33.983679\n",
       "2        70  59.425505\n",
       "3        50  93.704912\n",
       "4       110  34.384843\n",
       "5       110  29.509541\n",
       "6       110  33.174094\n",
       "7       130  37.038562\n",
       "8        90  49.120253\n",
       "9        90  53.313813"
      ]
     },
     "execution_count": 37,
     "metadata": {},
     "output_type": "execute_result"
    }
   ],
   "source": [
    "df [['calories','rating']]"
   ]
  },
  {
   "cell_type": "code",
   "execution_count": 39,
   "id": "415fff20-eb8a-4e2d-a094-14563cf80492",
   "metadata": {},
   "outputs": [
    {
     "data": {
      "text/html": [
       "<div>\n",
       "<style scoped>\n",
       "    .dataframe tbody tr th:only-of-type {\n",
       "        vertical-align: middle;\n",
       "    }\n",
       "\n",
       "    .dataframe tbody tr th {\n",
       "        vertical-align: top;\n",
       "    }\n",
       "\n",
       "    .dataframe thead th {\n",
       "        text-align: right;\n",
       "    }\n",
       "</style>\n",
       "<table border=\"1\" class=\"dataframe\">\n",
       "  <thead>\n",
       "    <tr style=\"text-align: right;\">\n",
       "      <th></th>\n",
       "      <th>calories</th>\n",
       "      <th>rating</th>\n",
       "    </tr>\n",
       "  </thead>\n",
       "  <tbody>\n",
       "    <tr>\n",
       "      <th>0</th>\n",
       "      <td>70</td>\n",
       "      <td>68.402973</td>\n",
       "    </tr>\n",
       "    <tr>\n",
       "      <th>1</th>\n",
       "      <td>120</td>\n",
       "      <td>33.983679</td>\n",
       "    </tr>\n",
       "    <tr>\n",
       "      <th>2</th>\n",
       "      <td>70</td>\n",
       "      <td>59.425505</td>\n",
       "    </tr>\n",
       "    <tr>\n",
       "      <th>3</th>\n",
       "      <td>50</td>\n",
       "      <td>93.704912</td>\n",
       "    </tr>\n",
       "    <tr>\n",
       "      <th>4</th>\n",
       "      <td>110</td>\n",
       "      <td>34.384843</td>\n",
       "    </tr>\n",
       "    <tr>\n",
       "      <th>5</th>\n",
       "      <td>110</td>\n",
       "      <td>29.509541</td>\n",
       "    </tr>\n",
       "    <tr>\n",
       "      <th>6</th>\n",
       "      <td>110</td>\n",
       "      <td>33.174094</td>\n",
       "    </tr>\n",
       "    <tr>\n",
       "      <th>7</th>\n",
       "      <td>130</td>\n",
       "      <td>37.038562</td>\n",
       "    </tr>\n",
       "    <tr>\n",
       "      <th>8</th>\n",
       "      <td>90</td>\n",
       "      <td>49.120253</td>\n",
       "    </tr>\n",
       "    <tr>\n",
       "      <th>9</th>\n",
       "      <td>90</td>\n",
       "      <td>53.313813</td>\n",
       "    </tr>\n",
       "  </tbody>\n",
       "</table>\n",
       "</div>"
      ],
      "text/plain": [
       "   calories     rating\n",
       "0        70  68.402973\n",
       "1       120  33.983679\n",
       "2        70  59.425505\n",
       "3        50  93.704912\n",
       "4       110  34.384843\n",
       "5       110  29.509541\n",
       "6       110  33.174094\n",
       "7       130  37.038562\n",
       "8        90  49.120253\n",
       "9        90  53.313813"
      ]
     },
     "execution_count": 39,
     "metadata": {},
     "output_type": "execute_result"
    }
   ],
   "source": [
    "df[['calories','rating']]"
   ]
  },
  {
   "cell_type": "code",
   "execution_count": 40,
   "id": "7df96b16-3372-4e68-b116-55680665dee6",
   "metadata": {},
   "outputs": [
    {
     "data": {
      "text/html": [
       "<div>\n",
       "<style scoped>\n",
       "    .dataframe tbody tr th:only-of-type {\n",
       "        vertical-align: middle;\n",
       "    }\n",
       "\n",
       "    .dataframe tbody tr th {\n",
       "        vertical-align: top;\n",
       "    }\n",
       "\n",
       "    .dataframe thead th {\n",
       "        text-align: right;\n",
       "    }\n",
       "</style>\n",
       "<table border=\"1\" class=\"dataframe\">\n",
       "  <thead>\n",
       "    <tr style=\"text-align: right;\">\n",
       "      <th></th>\n",
       "      <th>name</th>\n",
       "      <th>calories</th>\n",
       "      <th>protein</th>\n",
       "      <th>vitamins</th>\n",
       "      <th>rating</th>\n",
       "    </tr>\n",
       "  </thead>\n",
       "  <tbody>\n",
       "    <tr>\n",
       "      <th>0</th>\n",
       "      <td>100% Bran</td>\n",
       "      <td>70</td>\n",
       "      <td>4</td>\n",
       "      <td>25</td>\n",
       "      <td>68.402973</td>\n",
       "    </tr>\n",
       "    <tr>\n",
       "      <th>2</th>\n",
       "      <td>All-Bran</td>\n",
       "      <td>70</td>\n",
       "      <td>4</td>\n",
       "      <td>25</td>\n",
       "      <td>59.425505</td>\n",
       "    </tr>\n",
       "    <tr>\n",
       "      <th>3</th>\n",
       "      <td>All-Bran with Extra Fiber</td>\n",
       "      <td>50</td>\n",
       "      <td>4</td>\n",
       "      <td>25</td>\n",
       "      <td>93.704912</td>\n",
       "    </tr>\n",
       "  </tbody>\n",
       "</table>\n",
       "</div>"
      ],
      "text/plain": [
       "                        name  calories  protein  vitamins     rating\n",
       "0                  100% Bran        70        4        25  68.402973\n",
       "2                   All-Bran        70        4        25  59.425505\n",
       "3  All-Bran with Extra Fiber        50        4        25  93.704912"
      ]
     },
     "execution_count": 40,
     "metadata": {},
     "output_type": "execute_result"
    }
   ],
   "source": [
    "df1 = df[0:5]\n",
    "boolen_list = [True,False,True,True,False]\n",
    "df1[boolen_list]"
   ]
  },
  {
   "cell_type": "code",
   "execution_count": 41,
   "id": "2650bc78-b250-4a5f-b25f-4f51738ef72d",
   "metadata": {},
   "outputs": [
    {
     "data": {
      "text/plain": [
       "0    False\n",
       "1     True\n",
       "2    False\n",
       "3    False\n",
       "4     True\n",
       "5     True\n",
       "6     True\n",
       "7     True\n",
       "8     True\n",
       "9     True\n",
       "Name: calories, dtype: bool"
      ]
     },
     "execution_count": 41,
     "metadata": {},
     "output_type": "execute_result"
    }
   ],
   "source": [
    "df['calories']>70"
   ]
  },
  {
   "cell_type": "code",
   "execution_count": 42,
   "id": "a9231ee1-98cd-430a-8dc7-5890485dc3e6",
   "metadata": {},
   "outputs": [
    {
     "data": {
      "text/html": [
       "<div>\n",
       "<style scoped>\n",
       "    .dataframe tbody tr th:only-of-type {\n",
       "        vertical-align: middle;\n",
       "    }\n",
       "\n",
       "    .dataframe tbody tr th {\n",
       "        vertical-align: top;\n",
       "    }\n",
       "\n",
       "    .dataframe thead th {\n",
       "        text-align: right;\n",
       "    }\n",
       "</style>\n",
       "<table border=\"1\" class=\"dataframe\">\n",
       "  <thead>\n",
       "    <tr style=\"text-align: right;\">\n",
       "      <th></th>\n",
       "      <th>name</th>\n",
       "      <th>calories</th>\n",
       "      <th>protein</th>\n",
       "      <th>vitamins</th>\n",
       "      <th>rating</th>\n",
       "    </tr>\n",
       "  </thead>\n",
       "  <tbody>\n",
       "    <tr>\n",
       "      <th>1</th>\n",
       "      <td>100% Natural Bran</td>\n",
       "      <td>120</td>\n",
       "      <td>3</td>\n",
       "      <td>0</td>\n",
       "      <td>33.983679</td>\n",
       "    </tr>\n",
       "    <tr>\n",
       "      <th>4</th>\n",
       "      <td>Almond Delight</td>\n",
       "      <td>110</td>\n",
       "      <td>2</td>\n",
       "      <td>25</td>\n",
       "      <td>34.384843</td>\n",
       "    </tr>\n",
       "    <tr>\n",
       "      <th>5</th>\n",
       "      <td>Apple Cinnamon Cheerios</td>\n",
       "      <td>110</td>\n",
       "      <td>2</td>\n",
       "      <td>25</td>\n",
       "      <td>29.509541</td>\n",
       "    </tr>\n",
       "    <tr>\n",
       "      <th>6</th>\n",
       "      <td>Apple Jacks</td>\n",
       "      <td>110</td>\n",
       "      <td>2</td>\n",
       "      <td>25</td>\n",
       "      <td>33.174094</td>\n",
       "    </tr>\n",
       "    <tr>\n",
       "      <th>7</th>\n",
       "      <td>Basic 4</td>\n",
       "      <td>130</td>\n",
       "      <td>3</td>\n",
       "      <td>25</td>\n",
       "      <td>37.038562</td>\n",
       "    </tr>\n",
       "    <tr>\n",
       "      <th>8</th>\n",
       "      <td>Bran Chex</td>\n",
       "      <td>90</td>\n",
       "      <td>2</td>\n",
       "      <td>25</td>\n",
       "      <td>49.120253</td>\n",
       "    </tr>\n",
       "    <tr>\n",
       "      <th>9</th>\n",
       "      <td>Bran Flakes</td>\n",
       "      <td>90</td>\n",
       "      <td>3</td>\n",
       "      <td>25</td>\n",
       "      <td>53.313813</td>\n",
       "    </tr>\n",
       "  </tbody>\n",
       "</table>\n",
       "</div>"
      ],
      "text/plain": [
       "                      name  calories  protein  vitamins     rating\n",
       "1        100% Natural Bran       120        3         0  33.983679\n",
       "4           Almond Delight       110        2        25  34.384843\n",
       "5  Apple Cinnamon Cheerios       110        2        25  29.509541\n",
       "6              Apple Jacks       110        2        25  33.174094\n",
       "7                  Basic 4       130        3        25  37.038562\n",
       "8                Bran Chex        90        2        25  49.120253\n",
       "9              Bran Flakes        90        3        25  53.313813"
      ]
     },
     "execution_count": 42,
     "metadata": {},
     "output_type": "execute_result"
    }
   ],
   "source": [
    "condition = df['calories']>70\n",
    "df[condition]"
   ]
  },
  {
   "cell_type": "code",
   "execution_count": 43,
   "id": "94650d64-6ca6-42dd-b26b-fdb87c6daada",
   "metadata": {},
   "outputs": [],
   "source": [
    "#filtering rows using &(and) and |(or) operators"
   ]
  },
  {
   "cell_type": "code",
   "execution_count": 48,
   "id": "cbb46701-4d60-41d3-9f1d-307bb14cc022",
   "metadata": {},
   "outputs": [
    {
     "data": {
      "text/html": [
       "<div>\n",
       "<style scoped>\n",
       "    .dataframe tbody tr th:only-of-type {\n",
       "        vertical-align: middle;\n",
       "    }\n",
       "\n",
       "    .dataframe tbody tr th {\n",
       "        vertical-align: top;\n",
       "    }\n",
       "\n",
       "    .dataframe thead th {\n",
       "        text-align: right;\n",
       "    }\n",
       "</style>\n",
       "<table border=\"1\" class=\"dataframe\">\n",
       "  <thead>\n",
       "    <tr style=\"text-align: right;\">\n",
       "      <th></th>\n",
       "      <th>name</th>\n",
       "      <th>calories</th>\n",
       "      <th>protein</th>\n",
       "      <th>vitamins</th>\n",
       "      <th>rating</th>\n",
       "    </tr>\n",
       "  </thead>\n",
       "  <tbody>\n",
       "    <tr>\n",
       "      <th>4</th>\n",
       "      <td>Almond Delight</td>\n",
       "      <td>110</td>\n",
       "      <td>2</td>\n",
       "      <td>25</td>\n",
       "      <td>34.384843</td>\n",
       "    </tr>\n",
       "    <tr>\n",
       "      <th>5</th>\n",
       "      <td>Apple Cinnamon Cheerios</td>\n",
       "      <td>110</td>\n",
       "      <td>2</td>\n",
       "      <td>25</td>\n",
       "      <td>29.509541</td>\n",
       "    </tr>\n",
       "    <tr>\n",
       "      <th>6</th>\n",
       "      <td>Apple Jacks</td>\n",
       "      <td>110</td>\n",
       "      <td>2</td>\n",
       "      <td>25</td>\n",
       "      <td>33.174094</td>\n",
       "    </tr>\n",
       "    <tr>\n",
       "      <th>8</th>\n",
       "      <td>Bran Chex</td>\n",
       "      <td>90</td>\n",
       "      <td>2</td>\n",
       "      <td>25</td>\n",
       "      <td>49.120253</td>\n",
       "    </tr>\n",
       "  </tbody>\n",
       "</table>\n",
       "</div>"
      ],
      "text/plain": [
       "                      name  calories  protein  vitamins     rating\n",
       "4           Almond Delight       110        2        25  34.384843\n",
       "5  Apple Cinnamon Cheerios       110        2        25  29.509541\n",
       "6              Apple Jacks       110        2        25  33.174094\n",
       "8                Bran Chex        90        2        25  49.120253"
      ]
     },
     "execution_count": 48,
     "metadata": {},
     "output_type": "execute_result"
    }
   ],
   "source": [
    "df[(df['calories']>70)&(df['protein']<3)]"
   ]
  },
  {
   "cell_type": "code",
   "execution_count": 49,
   "id": "acadacd5-6ee7-4635-b975-6a3ca2c48bfb",
   "metadata": {},
   "outputs": [
    {
     "data": {
      "text/html": [
       "<div>\n",
       "<style scoped>\n",
       "    .dataframe tbody tr th:only-of-type {\n",
       "        vertical-align: middle;\n",
       "    }\n",
       "\n",
       "    .dataframe tbody tr th {\n",
       "        vertical-align: top;\n",
       "    }\n",
       "\n",
       "    .dataframe thead th {\n",
       "        text-align: right;\n",
       "    }\n",
       "</style>\n",
       "<table border=\"1\" class=\"dataframe\">\n",
       "  <thead>\n",
       "    <tr style=\"text-align: right;\">\n",
       "      <th></th>\n",
       "      <th>name</th>\n",
       "      <th>calories</th>\n",
       "      <th>protein</th>\n",
       "      <th>vitamins</th>\n",
       "      <th>rating</th>\n",
       "    </tr>\n",
       "  </thead>\n",
       "  <tbody>\n",
       "    <tr>\n",
       "      <th>1</th>\n",
       "      <td>100% Natural Bran</td>\n",
       "      <td>120</td>\n",
       "      <td>3</td>\n",
       "      <td>0</td>\n",
       "      <td>33.983679</td>\n",
       "    </tr>\n",
       "    <tr>\n",
       "      <th>4</th>\n",
       "      <td>Almond Delight</td>\n",
       "      <td>110</td>\n",
       "      <td>2</td>\n",
       "      <td>25</td>\n",
       "      <td>34.384843</td>\n",
       "    </tr>\n",
       "    <tr>\n",
       "      <th>5</th>\n",
       "      <td>Apple Cinnamon Cheerios</td>\n",
       "      <td>110</td>\n",
       "      <td>2</td>\n",
       "      <td>25</td>\n",
       "      <td>29.509541</td>\n",
       "    </tr>\n",
       "    <tr>\n",
       "      <th>6</th>\n",
       "      <td>Apple Jacks</td>\n",
       "      <td>110</td>\n",
       "      <td>2</td>\n",
       "      <td>25</td>\n",
       "      <td>33.174094</td>\n",
       "    </tr>\n",
       "    <tr>\n",
       "      <th>7</th>\n",
       "      <td>Basic 4</td>\n",
       "      <td>130</td>\n",
       "      <td>3</td>\n",
       "      <td>25</td>\n",
       "      <td>37.038562</td>\n",
       "    </tr>\n",
       "    <tr>\n",
       "      <th>8</th>\n",
       "      <td>Bran Chex</td>\n",
       "      <td>90</td>\n",
       "      <td>2</td>\n",
       "      <td>25</td>\n",
       "      <td>49.120253</td>\n",
       "    </tr>\n",
       "    <tr>\n",
       "      <th>9</th>\n",
       "      <td>Bran Flakes</td>\n",
       "      <td>90</td>\n",
       "      <td>3</td>\n",
       "      <td>25</td>\n",
       "      <td>53.313813</td>\n",
       "    </tr>\n",
       "  </tbody>\n",
       "</table>\n",
       "</div>"
      ],
      "text/plain": [
       "                      name  calories  protein  vitamins     rating\n",
       "1        100% Natural Bran       120        3         0  33.983679\n",
       "4           Almond Delight       110        2        25  34.384843\n",
       "5  Apple Cinnamon Cheerios       110        2        25  29.509541\n",
       "6              Apple Jacks       110        2        25  33.174094\n",
       "7                  Basic 4       130        3        25  37.038562\n",
       "8                Bran Chex        90        2        25  49.120253\n",
       "9              Bran Flakes        90        3        25  53.313813"
      ]
     },
     "execution_count": 49,
     "metadata": {},
     "output_type": "execute_result"
    }
   ],
   "source": [
    "df[(df['calories']>70)|(df['protein']<3)]"
   ]
  },
  {
   "cell_type": "code",
   "execution_count": 52,
   "id": "d6fb02e2-0bc4-4164-9ef4-5d606121cb94",
   "metadata": {},
   "outputs": [],
   "source": [
    "#filetring data using loc()"
   ]
  },
  {
   "cell_type": "code",
   "execution_count": 53,
   "id": "e87a7bd2-2a33-4109-bdf6-44d0c1876a6f",
   "metadata": {},
   "outputs": [
    {
     "data": {
      "text/plain": [
       "np.int64(4)"
      ]
     },
     "execution_count": 53,
     "metadata": {},
     "output_type": "execute_result"
    }
   ],
   "source": [
    "df.loc[2,'protein']"
   ]
  },
  {
   "cell_type": "code",
   "execution_count": 54,
   "id": "bec2b2f5-d6bf-402d-9007-5035d7f774b2",
   "metadata": {},
   "outputs": [
    {
     "data": {
      "text/html": [
       "<div>\n",
       "<style scoped>\n",
       "    .dataframe tbody tr th:only-of-type {\n",
       "        vertical-align: middle;\n",
       "    }\n",
       "\n",
       "    .dataframe tbody tr th {\n",
       "        vertical-align: top;\n",
       "    }\n",
       "\n",
       "    .dataframe thead th {\n",
       "        text-align: right;\n",
       "    }\n",
       "</style>\n",
       "<table border=\"1\" class=\"dataframe\">\n",
       "  <thead>\n",
       "    <tr style=\"text-align: right;\">\n",
       "      <th></th>\n",
       "      <th>protein</th>\n",
       "      <th>name</th>\n",
       "    </tr>\n",
       "  </thead>\n",
       "  <tbody>\n",
       "    <tr>\n",
       "      <th>0</th>\n",
       "      <td>4</td>\n",
       "      <td>100% Bran</td>\n",
       "    </tr>\n",
       "    <tr>\n",
       "      <th>1</th>\n",
       "      <td>3</td>\n",
       "      <td>100% Natural Bran</td>\n",
       "    </tr>\n",
       "    <tr>\n",
       "      <th>2</th>\n",
       "      <td>4</td>\n",
       "      <td>All-Bran</td>\n",
       "    </tr>\n",
       "    <tr>\n",
       "      <th>3</th>\n",
       "      <td>4</td>\n",
       "      <td>All-Bran with Extra Fiber</td>\n",
       "    </tr>\n",
       "    <tr>\n",
       "      <th>4</th>\n",
       "      <td>2</td>\n",
       "      <td>Almond Delight</td>\n",
       "    </tr>\n",
       "  </tbody>\n",
       "</table>\n",
       "</div>"
      ],
      "text/plain": [
       "   protein                       name\n",
       "0        4                  100% Bran\n",
       "1        3          100% Natural Bran\n",
       "2        4                   All-Bran\n",
       "3        4  All-Bran with Extra Fiber\n",
       "4        2             Almond Delight"
      ]
     },
     "execution_count": 54,
     "metadata": {},
     "output_type": "execute_result"
    }
   ],
   "source": [
    "df.loc[0:4,['protein','name']]"
   ]
  },
  {
   "cell_type": "code",
   "execution_count": 57,
   "id": "4191a793-d621-43c5-88ff-19cc5b2a367e",
   "metadata": {},
   "outputs": [
    {
     "data": {
      "text/html": [
       "<div>\n",
       "<style scoped>\n",
       "    .dataframe tbody tr th:only-of-type {\n",
       "        vertical-align: middle;\n",
       "    }\n",
       "\n",
       "    .dataframe tbody tr th {\n",
       "        vertical-align: top;\n",
       "    }\n",
       "\n",
       "    .dataframe thead th {\n",
       "        text-align: right;\n",
       "    }\n",
       "</style>\n",
       "<table border=\"1\" class=\"dataframe\">\n",
       "  <thead>\n",
       "    <tr style=\"text-align: right;\">\n",
       "      <th></th>\n",
       "      <th>name</th>\n",
       "      <th>calories</th>\n",
       "      <th>protein</th>\n",
       "      <th>vitamins</th>\n",
       "      <th>rating</th>\n",
       "    </tr>\n",
       "  </thead>\n",
       "  <tbody>\n",
       "    <tr>\n",
       "      <th>0</th>\n",
       "      <td>100% Bran</td>\n",
       "      <td>70</td>\n",
       "      <td>4</td>\n",
       "      <td>25</td>\n",
       "      <td>68.402973</td>\n",
       "    </tr>\n",
       "    <tr>\n",
       "      <th>1</th>\n",
       "      <td>100% Natural Bran</td>\n",
       "      <td>120</td>\n",
       "      <td>3</td>\n",
       "      <td>0</td>\n",
       "      <td>33.983679</td>\n",
       "    </tr>\n",
       "    <tr>\n",
       "      <th>2</th>\n",
       "      <td>All-Bran</td>\n",
       "      <td>70</td>\n",
       "      <td>4</td>\n",
       "      <td>25</td>\n",
       "      <td>59.425505</td>\n",
       "    </tr>\n",
       "    <tr>\n",
       "      <th>3</th>\n",
       "      <td>All-Bran with Extra Fiber</td>\n",
       "      <td>50</td>\n",
       "      <td>4</td>\n",
       "      <td>25</td>\n",
       "      <td>93.704912</td>\n",
       "    </tr>\n",
       "    <tr>\n",
       "      <th>4</th>\n",
       "      <td>shreya</td>\n",
       "      <td>110</td>\n",
       "      <td>1</td>\n",
       "      <td>25</td>\n",
       "      <td>27.750000</td>\n",
       "    </tr>\n",
       "  </tbody>\n",
       "</table>\n",
       "</div>"
      ],
      "text/plain": [
       "                        name  calories  protein  vitamins     rating\n",
       "0                  100% Bran        70        4        25  68.402973\n",
       "1          100% Natural Bran       120        3         0  33.983679\n",
       "2                   All-Bran        70        4        25  59.425505\n",
       "3  All-Bran with Extra Fiber        50        4        25  93.704912\n",
       "4                     shreya       110        1        25  27.750000"
      ]
     },
     "execution_count": 57,
     "metadata": {},
     "output_type": "execute_result"
    }
   ],
   "source": [
    "df1.loc[4] = ['shreya',110,1,25,27.75]\n",
    "df1"
   ]
  },
  {
   "cell_type": "code",
   "execution_count": 58,
   "id": "8320ee7a-7fb2-4821-91c2-46cd37ce7adb",
   "metadata": {},
   "outputs": [],
   "source": [
    "#Changes made in df1 will also affect df dataset"
   ]
  },
  {
   "cell_type": "code",
   "execution_count": 59,
   "id": "934a72b0-142b-4b6c-ae99-3a9639f80478",
   "metadata": {},
   "outputs": [
    {
     "data": {
      "text/html": [
       "<div>\n",
       "<style scoped>\n",
       "    .dataframe tbody tr th:only-of-type {\n",
       "        vertical-align: middle;\n",
       "    }\n",
       "\n",
       "    .dataframe tbody tr th {\n",
       "        vertical-align: top;\n",
       "    }\n",
       "\n",
       "    .dataframe thead th {\n",
       "        text-align: right;\n",
       "    }\n",
       "</style>\n",
       "<table border=\"1\" class=\"dataframe\">\n",
       "  <thead>\n",
       "    <tr style=\"text-align: right;\">\n",
       "      <th></th>\n",
       "      <th>name</th>\n",
       "      <th>calories</th>\n",
       "      <th>protein</th>\n",
       "      <th>vitamins</th>\n",
       "      <th>rating</th>\n",
       "    </tr>\n",
       "  </thead>\n",
       "  <tbody>\n",
       "    <tr>\n",
       "      <th>0</th>\n",
       "      <td>100% Bran</td>\n",
       "      <td>70</td>\n",
       "      <td>4</td>\n",
       "      <td>25</td>\n",
       "      <td>68.402973</td>\n",
       "    </tr>\n",
       "    <tr>\n",
       "      <th>1</th>\n",
       "      <td>100% Natural Bran</td>\n",
       "      <td>120</td>\n",
       "      <td>3</td>\n",
       "      <td>0</td>\n",
       "      <td>33.983679</td>\n",
       "    </tr>\n",
       "    <tr>\n",
       "      <th>2</th>\n",
       "      <td>All-Bran</td>\n",
       "      <td>70</td>\n",
       "      <td>4</td>\n",
       "      <td>25</td>\n",
       "      <td>59.425505</td>\n",
       "    </tr>\n",
       "    <tr>\n",
       "      <th>3</th>\n",
       "      <td>All-Bran with Extra Fiber</td>\n",
       "      <td>50</td>\n",
       "      <td>4</td>\n",
       "      <td>25</td>\n",
       "      <td>93.704912</td>\n",
       "    </tr>\n",
       "    <tr>\n",
       "      <th>4</th>\n",
       "      <td>shreya</td>\n",
       "      <td>110</td>\n",
       "      <td>1</td>\n",
       "      <td>25</td>\n",
       "      <td>27.750000</td>\n",
       "    </tr>\n",
       "    <tr>\n",
       "      <th>5</th>\n",
       "      <td>Apple Cinnamon Cheerios</td>\n",
       "      <td>110</td>\n",
       "      <td>2</td>\n",
       "      <td>25</td>\n",
       "      <td>29.509541</td>\n",
       "    </tr>\n",
       "    <tr>\n",
       "      <th>6</th>\n",
       "      <td>Apple Jacks</td>\n",
       "      <td>110</td>\n",
       "      <td>2</td>\n",
       "      <td>25</td>\n",
       "      <td>33.174094</td>\n",
       "    </tr>\n",
       "    <tr>\n",
       "      <th>7</th>\n",
       "      <td>Basic 4</td>\n",
       "      <td>130</td>\n",
       "      <td>3</td>\n",
       "      <td>25</td>\n",
       "      <td>37.038562</td>\n",
       "    </tr>\n",
       "    <tr>\n",
       "      <th>8</th>\n",
       "      <td>Bran Chex</td>\n",
       "      <td>90</td>\n",
       "      <td>2</td>\n",
       "      <td>25</td>\n",
       "      <td>49.120253</td>\n",
       "    </tr>\n",
       "    <tr>\n",
       "      <th>9</th>\n",
       "      <td>Bran Flakes</td>\n",
       "      <td>90</td>\n",
       "      <td>3</td>\n",
       "      <td>25</td>\n",
       "      <td>53.313813</td>\n",
       "    </tr>\n",
       "  </tbody>\n",
       "</table>\n",
       "</div>"
      ],
      "text/plain": [
       "                        name  calories  protein  vitamins     rating\n",
       "0                  100% Bran        70        4        25  68.402973\n",
       "1          100% Natural Bran       120        3         0  33.983679\n",
       "2                   All-Bran        70        4        25  59.425505\n",
       "3  All-Bran with Extra Fiber        50        4        25  93.704912\n",
       "4                     shreya       110        1        25  27.750000\n",
       "5    Apple Cinnamon Cheerios       110        2        25  29.509541\n",
       "6                Apple Jacks       110        2        25  33.174094\n",
       "7                    Basic 4       130        3        25  37.038562\n",
       "8                  Bran Chex        90        2        25  49.120253\n",
       "9                Bran Flakes        90        3        25  53.313813"
      ]
     },
     "execution_count": 59,
     "metadata": {},
     "output_type": "execute_result"
    }
   ],
   "source": [
    "df"
   ]
  },
  {
   "cell_type": "code",
   "execution_count": 61,
   "id": "93df3bd9-061f-47bc-8569-48f61985e5fa",
   "metadata": {},
   "outputs": [],
   "source": [
    "df1 = df.iloc[0:5,].copy()"
   ]
  },
  {
   "cell_type": "code",
   "execution_count": 62,
   "id": "d915f473-20ee-4486-b489-4185eb4c3e83",
   "metadata": {},
   "outputs": [],
   "source": [
    "df1.drop(3,axis=0,inplace=True)"
   ]
  },
  {
   "cell_type": "code",
   "execution_count": 63,
   "id": "f9a8a7e2-5053-4afa-8433-c153e9d17d38",
   "metadata": {},
   "outputs": [
    {
     "data": {
      "text/html": [
       "<div>\n",
       "<style scoped>\n",
       "    .dataframe tbody tr th:only-of-type {\n",
       "        vertical-align: middle;\n",
       "    }\n",
       "\n",
       "    .dataframe tbody tr th {\n",
       "        vertical-align: top;\n",
       "    }\n",
       "\n",
       "    .dataframe thead th {\n",
       "        text-align: right;\n",
       "    }\n",
       "</style>\n",
       "<table border=\"1\" class=\"dataframe\">\n",
       "  <thead>\n",
       "    <tr style=\"text-align: right;\">\n",
       "      <th></th>\n",
       "      <th>name</th>\n",
       "      <th>calories</th>\n",
       "      <th>protein</th>\n",
       "      <th>vitamins</th>\n",
       "      <th>rating</th>\n",
       "    </tr>\n",
       "  </thead>\n",
       "  <tbody>\n",
       "    <tr>\n",
       "      <th>0</th>\n",
       "      <td>100% Bran</td>\n",
       "      <td>70</td>\n",
       "      <td>4</td>\n",
       "      <td>25</td>\n",
       "      <td>68.402973</td>\n",
       "    </tr>\n",
       "    <tr>\n",
       "      <th>1</th>\n",
       "      <td>100% Natural Bran</td>\n",
       "      <td>120</td>\n",
       "      <td>3</td>\n",
       "      <td>0</td>\n",
       "      <td>33.983679</td>\n",
       "    </tr>\n",
       "    <tr>\n",
       "      <th>2</th>\n",
       "      <td>All-Bran</td>\n",
       "      <td>70</td>\n",
       "      <td>4</td>\n",
       "      <td>25</td>\n",
       "      <td>59.425505</td>\n",
       "    </tr>\n",
       "    <tr>\n",
       "      <th>4</th>\n",
       "      <td>shreya</td>\n",
       "      <td>110</td>\n",
       "      <td>1</td>\n",
       "      <td>25</td>\n",
       "      <td>27.750000</td>\n",
       "    </tr>\n",
       "  </tbody>\n",
       "</table>\n",
       "</div>"
      ],
      "text/plain": [
       "                name  calories  protein  vitamins     rating\n",
       "0          100% Bran        70        4        25  68.402973\n",
       "1  100% Natural Bran       120        3         0  33.983679\n",
       "2           All-Bran        70        4        25  59.425505\n",
       "4             shreya       110        1        25  27.750000"
      ]
     },
     "execution_count": 63,
     "metadata": {},
     "output_type": "execute_result"
    }
   ],
   "source": [
    "df1"
   ]
  },
  {
   "cell_type": "code",
   "execution_count": 64,
   "id": "88071007-ab35-406b-bac4-022673054f15",
   "metadata": {},
   "outputs": [
    {
     "data": {
      "text/html": [
       "<div>\n",
       "<style scoped>\n",
       "    .dataframe tbody tr th:only-of-type {\n",
       "        vertical-align: middle;\n",
       "    }\n",
       "\n",
       "    .dataframe tbody tr th {\n",
       "        vertical-align: top;\n",
       "    }\n",
       "\n",
       "    .dataframe thead th {\n",
       "        text-align: right;\n",
       "    }\n",
       "</style>\n",
       "<table border=\"1\" class=\"dataframe\">\n",
       "  <thead>\n",
       "    <tr style=\"text-align: right;\">\n",
       "      <th></th>\n",
       "      <th>calories</th>\n",
       "      <th>protein</th>\n",
       "      <th>vitamins</th>\n",
       "      <th>rating</th>\n",
       "    </tr>\n",
       "  </thead>\n",
       "  <tbody>\n",
       "    <tr>\n",
       "      <th>0</th>\n",
       "      <td>70</td>\n",
       "      <td>4</td>\n",
       "      <td>25</td>\n",
       "      <td>68.402973</td>\n",
       "    </tr>\n",
       "    <tr>\n",
       "      <th>1</th>\n",
       "      <td>120</td>\n",
       "      <td>3</td>\n",
       "      <td>0</td>\n",
       "      <td>33.983679</td>\n",
       "    </tr>\n",
       "    <tr>\n",
       "      <th>2</th>\n",
       "      <td>70</td>\n",
       "      <td>4</td>\n",
       "      <td>25</td>\n",
       "      <td>59.425505</td>\n",
       "    </tr>\n",
       "    <tr>\n",
       "      <th>4</th>\n",
       "      <td>110</td>\n",
       "      <td>1</td>\n",
       "      <td>25</td>\n",
       "      <td>27.750000</td>\n",
       "    </tr>\n",
       "  </tbody>\n",
       "</table>\n",
       "</div>"
      ],
      "text/plain": [
       "   calories  protein  vitamins     rating\n",
       "0        70        4        25  68.402973\n",
       "1       120        3         0  33.983679\n",
       "2        70        4        25  59.425505\n",
       "4       110        1        25  27.750000"
      ]
     },
     "execution_count": 64,
     "metadata": {},
     "output_type": "execute_result"
    }
   ],
   "source": [
    "df1.drop(\"name\",axis=1)"
   ]
  },
  {
   "cell_type": "code",
   "execution_count": 65,
   "id": "a342fc49-777f-46d2-b7fe-92b24f44b033",
   "metadata": {},
   "outputs": [
    {
     "data": {
      "text/html": [
       "<div>\n",
       "<style scoped>\n",
       "    .dataframe tbody tr th:only-of-type {\n",
       "        vertical-align: middle;\n",
       "    }\n",
       "\n",
       "    .dataframe tbody tr th {\n",
       "        vertical-align: top;\n",
       "    }\n",
       "\n",
       "    .dataframe thead th {\n",
       "        text-align: right;\n",
       "    }\n",
       "</style>\n",
       "<table border=\"1\" class=\"dataframe\">\n",
       "  <thead>\n",
       "    <tr style=\"text-align: right;\">\n",
       "      <th></th>\n",
       "      <th>name</th>\n",
       "      <th>calories</th>\n",
       "      <th>protein</th>\n",
       "      <th>vitamins</th>\n",
       "      <th>rating</th>\n",
       "      <th>My new column</th>\n",
       "    </tr>\n",
       "  </thead>\n",
       "  <tbody>\n",
       "    <tr>\n",
       "      <th>0</th>\n",
       "      <td>100% Bran</td>\n",
       "      <td>70</td>\n",
       "      <td>4</td>\n",
       "      <td>25</td>\n",
       "      <td>68.402973</td>\n",
       "      <td>1</td>\n",
       "    </tr>\n",
       "    <tr>\n",
       "      <th>1</th>\n",
       "      <td>100% Natural Bran</td>\n",
       "      <td>120</td>\n",
       "      <td>3</td>\n",
       "      <td>0</td>\n",
       "      <td>33.983679</td>\n",
       "      <td>2</td>\n",
       "    </tr>\n",
       "    <tr>\n",
       "      <th>2</th>\n",
       "      <td>All-Bran</td>\n",
       "      <td>70</td>\n",
       "      <td>4</td>\n",
       "      <td>25</td>\n",
       "      <td>59.425505</td>\n",
       "      <td>3</td>\n",
       "    </tr>\n",
       "    <tr>\n",
       "      <th>4</th>\n",
       "      <td>shreya</td>\n",
       "      <td>110</td>\n",
       "      <td>1</td>\n",
       "      <td>25</td>\n",
       "      <td>27.750000</td>\n",
       "      <td>4</td>\n",
       "    </tr>\n",
       "  </tbody>\n",
       "</table>\n",
       "</div>"
      ],
      "text/plain": [
       "                name  calories  protein  vitamins     rating  My new column\n",
       "0          100% Bran        70        4        25  68.402973              1\n",
       "1  100% Natural Bran       120        3         0  33.983679              2\n",
       "2           All-Bran        70        4        25  59.425505              3\n",
       "4             shreya       110        1        25  27.750000              4"
      ]
     },
     "execution_count": 65,
     "metadata": {},
     "output_type": "execute_result"
    }
   ],
   "source": [
    "df1['My new column']=[1,2,3,4]\n",
    "df1"
   ]
  },
  {
   "cell_type": "code",
   "execution_count": 66,
   "id": "1a73d0d3-fab1-4c0f-976d-3568468eeca5",
   "metadata": {},
   "outputs": [],
   "source": [
    "ascending_df = df.sort_values(by='calories')"
   ]
  },
  {
   "cell_type": "code",
   "execution_count": 67,
   "id": "6babb7ae-178b-4160-a7ff-c5bf5eb6bcc4",
   "metadata": {},
   "outputs": [
    {
     "data": {
      "text/html": [
       "<div>\n",
       "<style scoped>\n",
       "    .dataframe tbody tr th:only-of-type {\n",
       "        vertical-align: middle;\n",
       "    }\n",
       "\n",
       "    .dataframe tbody tr th {\n",
       "        vertical-align: top;\n",
       "    }\n",
       "\n",
       "    .dataframe thead th {\n",
       "        text-align: right;\n",
       "    }\n",
       "</style>\n",
       "<table border=\"1\" class=\"dataframe\">\n",
       "  <thead>\n",
       "    <tr style=\"text-align: right;\">\n",
       "      <th></th>\n",
       "      <th>name</th>\n",
       "      <th>calories</th>\n",
       "      <th>protein</th>\n",
       "      <th>vitamins</th>\n",
       "      <th>rating</th>\n",
       "    </tr>\n",
       "  </thead>\n",
       "  <tbody>\n",
       "    <tr>\n",
       "      <th>3</th>\n",
       "      <td>All-Bran with Extra Fiber</td>\n",
       "      <td>50</td>\n",
       "      <td>4</td>\n",
       "      <td>25</td>\n",
       "      <td>93.704912</td>\n",
       "    </tr>\n",
       "    <tr>\n",
       "      <th>0</th>\n",
       "      <td>100% Bran</td>\n",
       "      <td>70</td>\n",
       "      <td>4</td>\n",
       "      <td>25</td>\n",
       "      <td>68.402973</td>\n",
       "    </tr>\n",
       "    <tr>\n",
       "      <th>2</th>\n",
       "      <td>All-Bran</td>\n",
       "      <td>70</td>\n",
       "      <td>4</td>\n",
       "      <td>25</td>\n",
       "      <td>59.425505</td>\n",
       "    </tr>\n",
       "    <tr>\n",
       "      <th>8</th>\n",
       "      <td>Bran Chex</td>\n",
       "      <td>90</td>\n",
       "      <td>2</td>\n",
       "      <td>25</td>\n",
       "      <td>49.120253</td>\n",
       "    </tr>\n",
       "    <tr>\n",
       "      <th>9</th>\n",
       "      <td>Bran Flakes</td>\n",
       "      <td>90</td>\n",
       "      <td>3</td>\n",
       "      <td>25</td>\n",
       "      <td>53.313813</td>\n",
       "    </tr>\n",
       "    <tr>\n",
       "      <th>5</th>\n",
       "      <td>Apple Cinnamon Cheerios</td>\n",
       "      <td>110</td>\n",
       "      <td>2</td>\n",
       "      <td>25</td>\n",
       "      <td>29.509541</td>\n",
       "    </tr>\n",
       "    <tr>\n",
       "      <th>6</th>\n",
       "      <td>Apple Jacks</td>\n",
       "      <td>110</td>\n",
       "      <td>2</td>\n",
       "      <td>25</td>\n",
       "      <td>33.174094</td>\n",
       "    </tr>\n",
       "    <tr>\n",
       "      <th>4</th>\n",
       "      <td>shreya</td>\n",
       "      <td>110</td>\n",
       "      <td>1</td>\n",
       "      <td>25</td>\n",
       "      <td>27.750000</td>\n",
       "    </tr>\n",
       "    <tr>\n",
       "      <th>1</th>\n",
       "      <td>100% Natural Bran</td>\n",
       "      <td>120</td>\n",
       "      <td>3</td>\n",
       "      <td>0</td>\n",
       "      <td>33.983679</td>\n",
       "    </tr>\n",
       "    <tr>\n",
       "      <th>7</th>\n",
       "      <td>Basic 4</td>\n",
       "      <td>130</td>\n",
       "      <td>3</td>\n",
       "      <td>25</td>\n",
       "      <td>37.038562</td>\n",
       "    </tr>\n",
       "  </tbody>\n",
       "</table>\n",
       "</div>"
      ],
      "text/plain": [
       "                        name  calories  protein  vitamins     rating\n",
       "3  All-Bran with Extra Fiber        50        4        25  93.704912\n",
       "0                  100% Bran        70        4        25  68.402973\n",
       "2                   All-Bran        70        4        25  59.425505\n",
       "8                  Bran Chex        90        2        25  49.120253\n",
       "9                Bran Flakes        90        3        25  53.313813\n",
       "5    Apple Cinnamon Cheerios       110        2        25  29.509541\n",
       "6                Apple Jacks       110        2        25  33.174094\n",
       "4                     shreya       110        1        25  27.750000\n",
       "1          100% Natural Bran       120        3         0  33.983679\n",
       "7                    Basic 4       130        3        25  37.038562"
      ]
     },
     "execution_count": 67,
     "metadata": {},
     "output_type": "execute_result"
    }
   ],
   "source": [
    "ascending_df"
   ]
  },
  {
   "cell_type": "code",
   "execution_count": 68,
   "id": "cbcd0b02-f94d-4276-8053-751763aee6b0",
   "metadata": {},
   "outputs": [
    {
     "data": {
      "text/plain": [
       "Index(['name', 'calories', 'protein', 'vitamins', 'rating'], dtype='object')"
      ]
     },
     "execution_count": 68,
     "metadata": {},
     "output_type": "execute_result"
    }
   ],
   "source": [
    "df.columns"
   ]
  },
  {
   "cell_type": "code",
   "execution_count": 70,
   "id": "a720c6b7-a4e7-483e-8fb6-3cf14610ce41",
   "metadata": {},
   "outputs": [],
   "source": [
    "df.columns = ['col1','col2','col3','col4','col4']"
   ]
  },
  {
   "cell_type": "code",
   "execution_count": 71,
   "id": "1fdd7ec9-7b9b-4a3d-98f8-6a7beee811f6",
   "metadata": {},
   "outputs": [
    {
     "data": {
      "text/html": [
       "<div>\n",
       "<style scoped>\n",
       "    .dataframe tbody tr th:only-of-type {\n",
       "        vertical-align: middle;\n",
       "    }\n",
       "\n",
       "    .dataframe tbody tr th {\n",
       "        vertical-align: top;\n",
       "    }\n",
       "\n",
       "    .dataframe thead th {\n",
       "        text-align: right;\n",
       "    }\n",
       "</style>\n",
       "<table border=\"1\" class=\"dataframe\">\n",
       "  <thead>\n",
       "    <tr style=\"text-align: right;\">\n",
       "      <th></th>\n",
       "      <th>col1</th>\n",
       "      <th>col2</th>\n",
       "      <th>col3</th>\n",
       "      <th>col4</th>\n",
       "      <th>col4</th>\n",
       "    </tr>\n",
       "  </thead>\n",
       "  <tbody>\n",
       "    <tr>\n",
       "      <th>0</th>\n",
       "      <td>100% Bran</td>\n",
       "      <td>70</td>\n",
       "      <td>4</td>\n",
       "      <td>25</td>\n",
       "      <td>68.402973</td>\n",
       "    </tr>\n",
       "    <tr>\n",
       "      <th>1</th>\n",
       "      <td>100% Natural Bran</td>\n",
       "      <td>120</td>\n",
       "      <td>3</td>\n",
       "      <td>0</td>\n",
       "      <td>33.983679</td>\n",
       "    </tr>\n",
       "    <tr>\n",
       "      <th>2</th>\n",
       "      <td>All-Bran</td>\n",
       "      <td>70</td>\n",
       "      <td>4</td>\n",
       "      <td>25</td>\n",
       "      <td>59.425505</td>\n",
       "    </tr>\n",
       "    <tr>\n",
       "      <th>3</th>\n",
       "      <td>All-Bran with Extra Fiber</td>\n",
       "      <td>50</td>\n",
       "      <td>4</td>\n",
       "      <td>25</td>\n",
       "      <td>93.704912</td>\n",
       "    </tr>\n",
       "    <tr>\n",
       "      <th>4</th>\n",
       "      <td>shreya</td>\n",
       "      <td>110</td>\n",
       "      <td>1</td>\n",
       "      <td>25</td>\n",
       "      <td>27.750000</td>\n",
       "    </tr>\n",
       "    <tr>\n",
       "      <th>5</th>\n",
       "      <td>Apple Cinnamon Cheerios</td>\n",
       "      <td>110</td>\n",
       "      <td>2</td>\n",
       "      <td>25</td>\n",
       "      <td>29.509541</td>\n",
       "    </tr>\n",
       "    <tr>\n",
       "      <th>6</th>\n",
       "      <td>Apple Jacks</td>\n",
       "      <td>110</td>\n",
       "      <td>2</td>\n",
       "      <td>25</td>\n",
       "      <td>33.174094</td>\n",
       "    </tr>\n",
       "    <tr>\n",
       "      <th>7</th>\n",
       "      <td>Basic 4</td>\n",
       "      <td>130</td>\n",
       "      <td>3</td>\n",
       "      <td>25</td>\n",
       "      <td>37.038562</td>\n",
       "    </tr>\n",
       "    <tr>\n",
       "      <th>8</th>\n",
       "      <td>Bran Chex</td>\n",
       "      <td>90</td>\n",
       "      <td>2</td>\n",
       "      <td>25</td>\n",
       "      <td>49.120253</td>\n",
       "    </tr>\n",
       "    <tr>\n",
       "      <th>9</th>\n",
       "      <td>Bran Flakes</td>\n",
       "      <td>90</td>\n",
       "      <td>3</td>\n",
       "      <td>25</td>\n",
       "      <td>53.313813</td>\n",
       "    </tr>\n",
       "  </tbody>\n",
       "</table>\n",
       "</div>"
      ],
      "text/plain": [
       "                        col1  col2  col3  col4       col4\n",
       "0                  100% Bran    70     4    25  68.402973\n",
       "1          100% Natural Bran   120     3     0  33.983679\n",
       "2                   All-Bran    70     4    25  59.425505\n",
       "3  All-Bran with Extra Fiber    50     4    25  93.704912\n",
       "4                     shreya   110     1    25  27.750000\n",
       "5    Apple Cinnamon Cheerios   110     2    25  29.509541\n",
       "6                Apple Jacks   110     2    25  33.174094\n",
       "7                    Basic 4   130     3    25  37.038562\n",
       "8                  Bran Chex    90     2    25  49.120253\n",
       "9                Bran Flakes    90     3    25  53.313813"
      ]
     },
     "execution_count": 71,
     "metadata": {},
     "output_type": "execute_result"
    }
   ],
   "source": [
    "df"
   ]
  },
  {
   "cell_type": "code",
   "execution_count": 80,
   "id": "0fbb8b55-22e3-4f82-bb2c-237cc2e58b8d",
   "metadata": {},
   "outputs": [],
   "source": [
    "df.to_csv('C:/Users/Shreya/Desktop/New folder/myfile.csv',index_label=False)"
   ]
  },
  {
   "cell_type": "code",
   "execution_count": 86,
   "id": "61b4afda-8283-402e-a2bf-d2b0c49f0b9b",
   "metadata": {},
   "outputs": [
    {
     "data": {
      "text/html": [
       "<div>\n",
       "<style scoped>\n",
       "    .dataframe tbody tr th:only-of-type {\n",
       "        vertical-align: middle;\n",
       "    }\n",
       "\n",
       "    .dataframe tbody tr th {\n",
       "        vertical-align: top;\n",
       "    }\n",
       "\n",
       "    .dataframe thead th {\n",
       "        text-align: right;\n",
       "    }\n",
       "</style>\n",
       "<table border=\"1\" class=\"dataframe\">\n",
       "  <thead>\n",
       "    <tr style=\"text-align: right;\">\n",
       "      <th></th>\n",
       "      <th>name</th>\n",
       "      <th>calories</th>\n",
       "      <th>protein</th>\n",
       "      <th>vitamins</th>\n",
       "      <th>rating</th>\n",
       "      <th>My new column</th>\n",
       "    </tr>\n",
       "  </thead>\n",
       "  <tbody>\n",
       "    <tr>\n",
       "      <th>0</th>\n",
       "      <td>100% Bran</td>\n",
       "      <td>70</td>\n",
       "      <td>4</td>\n",
       "      <td>25</td>\n",
       "      <td>68.402973</td>\n",
       "      <td>1</td>\n",
       "    </tr>\n",
       "    <tr>\n",
       "      <th>1</th>\n",
       "      <td>100% Natural Bran</td>\n",
       "      <td>120</td>\n",
       "      <td>3</td>\n",
       "      <td>0</td>\n",
       "      <td>33.983679</td>\n",
       "      <td>2</td>\n",
       "    </tr>\n",
       "    <tr>\n",
       "      <th>2</th>\n",
       "      <td>All-Bran</td>\n",
       "      <td>70</td>\n",
       "      <td>4</td>\n",
       "      <td>25</td>\n",
       "      <td>59.425505</td>\n",
       "      <td>3</td>\n",
       "    </tr>\n",
       "    <tr>\n",
       "      <th>3</th>\n",
       "      <td>shreya</td>\n",
       "      <td>110</td>\n",
       "      <td>1</td>\n",
       "      <td>25</td>\n",
       "      <td>27.750000</td>\n",
       "      <td>4</td>\n",
       "    </tr>\n",
       "  </tbody>\n",
       "</table>\n",
       "</div>"
      ],
      "text/plain": [
       "                name  calories  protein  vitamins     rating  My new column\n",
       "0          100% Bran        70        4        25  68.402973              1\n",
       "1  100% Natural Bran       120        3         0  33.983679              2\n",
       "2           All-Bran        70        4        25  59.425505              3\n",
       "3             shreya       110        1        25  27.750000              4"
      ]
     },
     "execution_count": 86,
     "metadata": {},
     "output_type": "execute_result"
    }
   ],
   "source": [
    "df1 = df1.reset_index(drop=True)\n",
    "df1"
   ]
  },
  {
   "cell_type": "code",
   "execution_count": 93,
   "id": "502ca03c-7cd7-4323-a365-9d753b0b8051",
   "metadata": {},
   "outputs": [
    {
     "data": {
      "text/html": [
       "<div>\n",
       "<style scoped>\n",
       "    .dataframe tbody tr th:only-of-type {\n",
       "        vertical-align: middle;\n",
       "    }\n",
       "\n",
       "    .dataframe tbody tr th {\n",
       "        vertical-align: top;\n",
       "    }\n",
       "\n",
       "    .dataframe thead th {\n",
       "        text-align: right;\n",
       "    }\n",
       "</style>\n",
       "<table border=\"1\" class=\"dataframe\">\n",
       "  <thead>\n",
       "    <tr style=\"text-align: right;\">\n",
       "      <th></th>\n",
       "      <th>Gender</th>\n",
       "      <th>score</th>\n",
       "    </tr>\n",
       "  </thead>\n",
       "  <tbody>\n",
       "    <tr>\n",
       "      <th>0</th>\n",
       "      <td>female</td>\n",
       "      <td>86</td>\n",
       "    </tr>\n",
       "    <tr>\n",
       "      <th>1</th>\n",
       "      <td>male</td>\n",
       "      <td>89</td>\n",
       "    </tr>\n",
       "    <tr>\n",
       "      <th>2</th>\n",
       "      <td>female</td>\n",
       "      <td>67</td>\n",
       "    </tr>\n",
       "    <tr>\n",
       "      <th>3</th>\n",
       "      <td>male</td>\n",
       "      <td>90</td>\n",
       "    </tr>\n",
       "  </tbody>\n",
       "</table>\n",
       "</div>"
      ],
      "text/plain": [
       "   Gender  score\n",
       "0  female     86\n",
       "1    male     89\n",
       "2  female     67\n",
       "3    male     90"
      ]
     },
     "execution_count": 93,
     "metadata": {},
     "output_type": "execute_result"
    }
   ],
   "source": [
    "data ={'Gender':['female','male','female','male'],\n",
    "'score':[86,89,67,90]}\n",
    "new_df=pd.DataFrame(data)\n",
    "new_df"
   ]
  },
  {
   "cell_type": "code",
   "execution_count": 7,
   "id": "9d5c93ff-31d6-4584-9733-9ebf1755f9ed",
   "metadata": {},
   "outputs": [],
   "source": [
    "import numpy as np\n",
    "import pandas as pd"
   ]
  },
  {
   "cell_type": "code",
   "execution_count": 12,
   "id": "ceda2d04-748a-4ac8-a960-ec9b2cd01b43",
   "metadata": {},
   "outputs": [],
   "source": [
    "from numpy import nan"
   ]
  },
  {
   "cell_type": "code",
   "execution_count": 16,
   "id": "f65b54df-d9b1-49e6-ac41-2587b0370011",
   "metadata": {},
   "outputs": [],
   "source": [
    "data1 = {'Name':['person1','person2','person3','person4'],\n",
    "        'Age':[28,27,nan,36]}"
   ]
  },
  {
   "cell_type": "code",
   "execution_count": 18,
   "id": "8b514a88-0813-4a9e-943b-cbc3b5c49c67",
   "metadata": {},
   "outputs": [
    {
     "data": {
      "text/plain": [
       "{'Name': ['person1', 'person2', 'person3', 'person4'],\n",
       " 'Age': [28, 27, nan, 36]}"
      ]
     },
     "execution_count": 18,
     "metadata": {},
     "output_type": "execute_result"
    }
   ],
   "source": [
    "data = pd.DataFrame(data1)\n",
    "data1"
   ]
  },
  {
   "cell_type": "code",
   "execution_count": 19,
   "id": "58f5405f-1284-4431-83d3-a1deb9943784",
   "metadata": {},
   "outputs": [
    {
     "data": {
      "text/html": [
       "<div>\n",
       "<style scoped>\n",
       "    .dataframe tbody tr th:only-of-type {\n",
       "        vertical-align: middle;\n",
       "    }\n",
       "\n",
       "    .dataframe tbody tr th {\n",
       "        vertical-align: top;\n",
       "    }\n",
       "\n",
       "    .dataframe thead th {\n",
       "        text-align: right;\n",
       "    }\n",
       "</style>\n",
       "<table border=\"1\" class=\"dataframe\">\n",
       "  <thead>\n",
       "    <tr style=\"text-align: right;\">\n",
       "      <th></th>\n",
       "      <th>Name</th>\n",
       "      <th>Age</th>\n",
       "    </tr>\n",
       "  </thead>\n",
       "  <tbody>\n",
       "    <tr>\n",
       "      <th>0</th>\n",
       "      <td>False</td>\n",
       "      <td>False</td>\n",
       "    </tr>\n",
       "    <tr>\n",
       "      <th>1</th>\n",
       "      <td>False</td>\n",
       "      <td>False</td>\n",
       "    </tr>\n",
       "    <tr>\n",
       "      <th>2</th>\n",
       "      <td>False</td>\n",
       "      <td>True</td>\n",
       "    </tr>\n",
       "    <tr>\n",
       "      <th>3</th>\n",
       "      <td>False</td>\n",
       "      <td>False</td>\n",
       "    </tr>\n",
       "  </tbody>\n",
       "</table>\n",
       "</div>"
      ],
      "text/plain": [
       "    Name    Age\n",
       "0  False  False\n",
       "1  False  False\n",
       "2  False   True\n",
       "3  False  False"
      ]
     },
     "execution_count": 19,
     "metadata": {},
     "output_type": "execute_result"
    }
   ],
   "source": [
    "data.isnull()"
   ]
  },
  {
   "cell_type": "code",
   "execution_count": 20,
   "id": "0b4edc6a-2969-479c-bf11-9874a69bf01f",
   "metadata": {},
   "outputs": [
    {
     "data": {
      "text/plain": [
       "Name    0\n",
       "Age     1\n",
       "dtype: int64"
      ]
     },
     "execution_count": 20,
     "metadata": {},
     "output_type": "execute_result"
    }
   ],
   "source": [
    "data.isnull().sum()"
   ]
  },
  {
   "cell_type": "code",
   "execution_count": 21,
   "id": "52d5674c-a838-4053-a384-4d31f7a2d5a7",
   "metadata": {},
   "outputs": [
    {
     "data": {
      "text/html": [
       "<div>\n",
       "<style scoped>\n",
       "    .dataframe tbody tr th:only-of-type {\n",
       "        vertical-align: middle;\n",
       "    }\n",
       "\n",
       "    .dataframe tbody tr th {\n",
       "        vertical-align: top;\n",
       "    }\n",
       "\n",
       "    .dataframe thead th {\n",
       "        text-align: right;\n",
       "    }\n",
       "</style>\n",
       "<table border=\"1\" class=\"dataframe\">\n",
       "  <thead>\n",
       "    <tr style=\"text-align: right;\">\n",
       "      <th></th>\n",
       "      <th>Name</th>\n",
       "      <th>Age</th>\n",
       "    </tr>\n",
       "  </thead>\n",
       "  <tbody>\n",
       "    <tr>\n",
       "      <th>0</th>\n",
       "      <td>person1</td>\n",
       "      <td>28.0</td>\n",
       "    </tr>\n",
       "    <tr>\n",
       "      <th>1</th>\n",
       "      <td>person2</td>\n",
       "      <td>27.0</td>\n",
       "    </tr>\n",
       "    <tr>\n",
       "      <th>3</th>\n",
       "      <td>person4</td>\n",
       "      <td>36.0</td>\n",
       "    </tr>\n",
       "  </tbody>\n",
       "</table>\n",
       "</div>"
      ],
      "text/plain": [
       "      Name   Age\n",
       "0  person1  28.0\n",
       "1  person2  27.0\n",
       "3  person4  36.0"
      ]
     },
     "execution_count": 21,
     "metadata": {},
     "output_type": "execute_result"
    }
   ],
   "source": [
    "data.dropna()"
   ]
  },
  {
   "cell_type": "code",
   "execution_count": 43,
   "id": "499f994c-760b-44cf-b887-439bcf29209f",
   "metadata": {},
   "outputs": [],
   "source": [
    "data2 =  {'Name':['person1','person2','person3','person4'],\n",
    "        'Age':[28,27,45,36]}"
   ]
  },
  {
   "cell_type": "code",
   "execution_count": 44,
   "id": "927fbb38-f2f5-4af2-b125-97364114bb30",
   "metadata": {},
   "outputs": [
    {
     "data": {
      "text/html": [
       "<div>\n",
       "<style scoped>\n",
       "    .dataframe tbody tr th:only-of-type {\n",
       "        vertical-align: middle;\n",
       "    }\n",
       "\n",
       "    .dataframe tbody tr th {\n",
       "        vertical-align: top;\n",
       "    }\n",
       "\n",
       "    .dataframe thead th {\n",
       "        text-align: right;\n",
       "    }\n",
       "</style>\n",
       "<table border=\"1\" class=\"dataframe\">\n",
       "  <thead>\n",
       "    <tr style=\"text-align: right;\">\n",
       "      <th></th>\n",
       "      <th>Name</th>\n",
       "      <th>Age</th>\n",
       "    </tr>\n",
       "  </thead>\n",
       "  <tbody>\n",
       "    <tr>\n",
       "      <th>0</th>\n",
       "      <td>person1</td>\n",
       "      <td>28</td>\n",
       "    </tr>\n",
       "    <tr>\n",
       "      <th>1</th>\n",
       "      <td>person2</td>\n",
       "      <td>27</td>\n",
       "    </tr>\n",
       "    <tr>\n",
       "      <th>2</th>\n",
       "      <td>person3</td>\n",
       "      <td>45</td>\n",
       "    </tr>\n",
       "    <tr>\n",
       "      <th>3</th>\n",
       "      <td>person4</td>\n",
       "      <td>36</td>\n",
       "    </tr>\n",
       "  </tbody>\n",
       "</table>\n",
       "</div>"
      ],
      "text/plain": [
       "      Name  Age\n",
       "0  person1   28\n",
       "1  person2   27\n",
       "2  person3   45\n",
       "3  person4   36"
      ]
     },
     "execution_count": 44,
     "metadata": {},
     "output_type": "execute_result"
    }
   ],
   "source": [
    "df = pd.DataFrame(data2)\n",
    "df"
   ]
  },
  {
   "cell_type": "code",
   "execution_count": 45,
   "id": "8864fe8d-f1b9-4c3e-8b61-7031e3b297f8",
   "metadata": {},
   "outputs": [
    {
     "data": {
      "text/plain": [
       "dtype('int64')"
      ]
     },
     "execution_count": 45,
     "metadata": {},
     "output_type": "execute_result"
    }
   ],
   "source": [
    "df['Age'].dtype"
   ]
  },
  {
   "cell_type": "code",
   "execution_count": 46,
   "id": "91d38bcb-84c5-43cf-a980-f5468aaed360",
   "metadata": {},
   "outputs": [],
   "source": [
    "#filling missing values with mean/median/mode"
   ]
  },
  {
   "cell_type": "code",
   "execution_count": 47,
   "id": "153dc2a6-8ad9-4865-a7ca-7fbdf7654208",
   "metadata": {},
   "outputs": [
    {
     "data": {
      "text/plain": [
       "0    28.000000\n",
       "1    27.000000\n",
       "2    30.333333\n",
       "3    36.000000\n",
       "Name: Age, dtype: float64"
      ]
     },
     "execution_count": 47,
     "metadata": {},
     "output_type": "execute_result"
    }
   ],
   "source": [
    "data['Age'].fillna(data['Age'].mean())\n",
    "#data['Age'].fillna(data['Age'].mean(),inplace=True)"
   ]
  },
  {
   "cell_type": "code",
   "execution_count": 48,
   "id": "17f3c756-028d-40a9-8590-75b2bb8e9771",
   "metadata": {},
   "outputs": [
    {
     "data": {
      "text/html": [
       "<div>\n",
       "<style scoped>\n",
       "    .dataframe tbody tr th:only-of-type {\n",
       "        vertical-align: middle;\n",
       "    }\n",
       "\n",
       "    .dataframe tbody tr th {\n",
       "        vertical-align: top;\n",
       "    }\n",
       "\n",
       "    .dataframe thead th {\n",
       "        text-align: right;\n",
       "    }\n",
       "</style>\n",
       "<table border=\"1\" class=\"dataframe\">\n",
       "  <thead>\n",
       "    <tr style=\"text-align: right;\">\n",
       "      <th></th>\n",
       "      <th>Name</th>\n",
       "      <th>Age</th>\n",
       "    </tr>\n",
       "  </thead>\n",
       "  <tbody>\n",
       "    <tr>\n",
       "      <th>0</th>\n",
       "      <td>person1</td>\n",
       "      <td>28</td>\n",
       "    </tr>\n",
       "    <tr>\n",
       "      <th>1</th>\n",
       "      <td>person2</td>\n",
       "      <td>27</td>\n",
       "    </tr>\n",
       "    <tr>\n",
       "      <th>2</th>\n",
       "      <td>person3</td>\n",
       "      <td>45</td>\n",
       "    </tr>\n",
       "    <tr>\n",
       "      <th>3</th>\n",
       "      <td>person4</td>\n",
       "      <td>36</td>\n",
       "    </tr>\n",
       "  </tbody>\n",
       "</table>\n",
       "</div>"
      ],
      "text/plain": [
       "      Name  Age\n",
       "0  person1   28\n",
       "1  person2   27\n",
       "2  person3   45\n",
       "3  person4   36"
      ]
     },
     "execution_count": 48,
     "metadata": {},
     "output_type": "execute_result"
    }
   ],
   "source": [
    "df = pd.DataFrame(data2)\n",
    "df"
   ]
  },
  {
   "cell_type": "code",
   "execution_count": 49,
   "id": "e35a3b70-ba80-4e5d-af1a-fa38f44d00a6",
   "metadata": {},
   "outputs": [
    {
     "data": {
      "text/plain": [
       "np.int64(27)"
      ]
     },
     "execution_count": 49,
     "metadata": {},
     "output_type": "execute_result"
    }
   ],
   "source": [
    "df['Age'].mode()[0]"
   ]
  },
  {
   "cell_type": "code",
   "execution_count": 54,
   "id": "21fe78ab-bb32-472c-a656-2e3d5f6e3a28",
   "metadata": {},
   "outputs": [],
   "source": [
    "\n",
    "data2 = {\n",
    "    'Name': ['person1', 'person2', 'person3', 'person4'],\n",
    "    'Age': [28, 27, np.nan, 45]  \n",
    "}\n"
   ]
  },
  {
   "cell_type": "code",
   "execution_count": 55,
   "id": "93dba3b2-a120-4851-a1b7-46f34708b467",
   "metadata": {},
   "outputs": [
    {
     "data": {
      "text/html": [
       "<div>\n",
       "<style scoped>\n",
       "    .dataframe tbody tr th:only-of-type {\n",
       "        vertical-align: middle;\n",
       "    }\n",
       "\n",
       "    .dataframe tbody tr th {\n",
       "        vertical-align: top;\n",
       "    }\n",
       "\n",
       "    .dataframe thead th {\n",
       "        text-align: right;\n",
       "    }\n",
       "</style>\n",
       "<table border=\"1\" class=\"dataframe\">\n",
       "  <thead>\n",
       "    <tr style=\"text-align: right;\">\n",
       "      <th></th>\n",
       "      <th>Name</th>\n",
       "      <th>Age</th>\n",
       "    </tr>\n",
       "  </thead>\n",
       "  <tbody>\n",
       "    <tr>\n",
       "      <th>0</th>\n",
       "      <td>person1</td>\n",
       "      <td>28.0</td>\n",
       "    </tr>\n",
       "    <tr>\n",
       "      <th>1</th>\n",
       "      <td>person2</td>\n",
       "      <td>27.0</td>\n",
       "    </tr>\n",
       "    <tr>\n",
       "      <th>2</th>\n",
       "      <td>person3</td>\n",
       "      <td>NaN</td>\n",
       "    </tr>\n",
       "    <tr>\n",
       "      <th>3</th>\n",
       "      <td>person4</td>\n",
       "      <td>45.0</td>\n",
       "    </tr>\n",
       "  </tbody>\n",
       "</table>\n",
       "</div>"
      ],
      "text/plain": [
       "      Name   Age\n",
       "0  person1  28.0\n",
       "1  person2  27.0\n",
       "2  person3   NaN\n",
       "3  person4  45.0"
      ]
     },
     "execution_count": 55,
     "metadata": {},
     "output_type": "execute_result"
    }
   ],
   "source": [
    "df = pd.DataFrame(data2)\n",
    "df"
   ]
  },
  {
   "cell_type": "code",
   "execution_count": 64,
   "id": "16e0903e-87f5-4c43-8cac-c36b561b8057",
   "metadata": {},
   "outputs": [
    {
     "data": {
      "text/plain": [
       "0    28.0\n",
       "1    27.0\n",
       "2    45.0\n",
       "3    45.0\n",
       "Name: Age, dtype: float64"
      ]
     },
     "execution_count": 64,
     "metadata": {},
     "output_type": "execute_result"
    }
   ],
   "source": [
    "df['Age'].fillna(df['Age'].mode())"
   ]
  },
  {
   "cell_type": "code",
   "execution_count": 66,
   "id": "fd971c2e-7b63-4275-8cff-89219ff6ede0",
   "metadata": {},
   "outputs": [
    {
     "data": {
      "text/plain": [
       "0    28.0\n",
       "1    27.0\n",
       "2    28.0\n",
       "3    45.0\n",
       "Name: Age, dtype: float64"
      ]
     },
     "execution_count": 66,
     "metadata": {},
     "output_type": "execute_result"
    }
   ],
   "source": [
    "df['Age'].fillna(df['Age'].median())"
   ]
  },
  {
   "cell_type": "code",
   "execution_count": null,
   "id": "0973f0e7-318f-4087-8207-030ec4fa7516",
   "metadata": {},
   "outputs": [],
   "source": []
  }
 ],
 "metadata": {
  "kernelspec": {
   "display_name": "Python 3 (ipykernel)",
   "language": "python",
   "name": "python3"
  },
  "language_info": {
   "codemirror_mode": {
    "name": "ipython",
    "version": 3
   },
   "file_extension": ".py",
   "mimetype": "text/x-python",
   "name": "python",
   "nbconvert_exporter": "python",
   "pygments_lexer": "ipython3",
   "version": "3.12.4"
  }
 },
 "nbformat": 4,
 "nbformat_minor": 5
}
