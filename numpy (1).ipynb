{
 "cells": [
  {
   "cell_type": "code",
   "execution_count": 1,
   "id": "af3c7966-dd93-47b4-b337-88985e3b63ec",
   "metadata": {},
   "outputs": [
    {
     "name": "stdout",
     "output_type": "stream",
     "text": [
      "[[ 7  9  9  2]\n",
      " [16 11  9  6]]\n"
     ]
    }
   ],
   "source": [
    "import numpy as np\n",
    "b = np.array([(7,9,9,2),(16,11,9,6)])\n",
    "print(b)"
   ]
  },
  {
   "cell_type": "code",
   "execution_count": 6,
   "id": "6ca31fff-a60b-4a5d-aa4f-edc17c89e9c9",
   "metadata": {},
   "outputs": [
    {
     "name": "stdout",
     "output_type": "stream",
     "text": [
      "[0 1 2 3 4 5 6 7 8 9]\n",
      "[1.  1.8 2.6 3.4 4.2 5. ]\n"
     ]
    }
   ],
   "source": [
    "#syntax multidimention\n",
    "c = np.arange(10) # range of value in array\n",
    "d = np.linspace(1,5,6) # set of value by interval\n",
    "print(c)\n",
    "print(d)"
   ]
  },
  {
   "cell_type": "code",
   "execution_count": 8,
   "id": "702be93c-9236-41ca-830e-833c897939b3",
   "metadata": {},
   "outputs": [
    {
     "name": "stdout",
     "output_type": "stream",
     "text": [
      "1\n",
      "8\n",
      "int64\n",
      "32\n",
      "4\n",
      "(2, 4)\n"
     ]
    }
   ],
   "source": [
    "a = np.array([7,9,9,2])\n",
    "b = np.array([(7,9,9,2),(16,11,9,6)])\n",
    "print(a.ndim) #dimention of array\n",
    "print(a.itemsize) # Byte size of each element\n",
    "print(a.dtype) # datatype of array\n",
    "print(a.size*a.itemsize) # MEMORY OCCUPIDE - SPACE OCCUPIDE\n",
    "print(a.size) # NUMBER OF ELEMENTS OF ARRAY\n",
    "print(b.shape) #shape of array"
   ]
  },
  {
   "cell_type": "code",
   "execution_count": 9,
   "id": "c76f03d5-e9f2-4a96-b791-19c473d0639c",
   "metadata": {},
   "outputs": [
    {
     "name": "stdout",
     "output_type": "stream",
     "text": [
      "[[ 7  9  9  2]\n",
      " [16 11  9  6]]\n",
      "[[ 7  9]\n",
      " [ 9  2]\n",
      " [16 11]\n",
      " [ 9  6]]\n"
     ]
    }
   ],
   "source": [
    "b = np.array([(7,9,9,2),(16,11,9,6)])\n",
    "print(b)\n",
    "b = b.reshape(4,2)\n",
    "print(b)"
   ]
  },
  {
   "cell_type": "code",
   "execution_count": 11,
   "id": "bbc5a161-120a-4c78-acf0-e88ff75edd24",
   "metadata": {},
   "outputs": [
    {
     "name": "stdout",
     "output_type": "stream",
     "text": [
      "9\n",
      "[9 9]\n"
     ]
    }
   ],
   "source": [
    "b = np.array([(7,9,9,2),(16,11,9,6)])\n",
    "print(b[0,2]) #slicing the elements from certain row and certain column\n",
    "print(b[0:,2]) #slicing elements from all rows and certain column"
   ]
  },
  {
   "cell_type": "code",
   "execution_count": 12,
   "id": "5917f780-a30e-4dc6-b221-5c1537b51fe4",
   "metadata": {},
   "outputs": [
    {
     "name": "stdout",
     "output_type": "stream",
     "text": [
      "2\n",
      "96\n",
      "150\n"
     ]
    }
   ],
   "source": [
    "e = np.array([7,9,9,2,16,11,96])\n",
    "print(e.min()) # minimum value\n",
    "print(e.max()) #maximum value\n",
    "print(e.sum()) #sum of value"
   ]
  },
  {
   "cell_type": "code",
   "execution_count": 14,
   "id": "7ef9e9a3-3484-4551-93c2-e0853a2f5d43",
   "metadata": {},
   "outputs": [
    {
     "name": "stdout",
     "output_type": "stream",
     "text": [
      "[23 20 18  8]\n",
      "[27 42]\n",
      "[2.64575131 3.         3.         1.41421356]\n",
      "2.8613807855648994\n",
      "[1.09663316e+03 8.10308393e+03 8.10308393e+03 7.38905610e+00]\n",
      "[1.94591015 2.19722458 2.19722458 0.69314718]\n",
      "[0.84509804 0.95424251 0.95424251 0.30103   ]\n"
     ]
    }
   ],
   "source": [
    "a = np.array([7,9,9,2])\n",
    "b = np.array([(7,9,9,2),(16,11,9,6)])\n",
    "print(b.sum(axis = 0)) # each element of first dim array with same index with another dim element\n",
    "print(b.sum(axis = 1)) # sum of all elements in 1st dim and sum in 2nd dim\n",
    "print(np.sqrt(a)) #sqrt of array element\n",
    "print(np.std(a)) #\n",
    "print(np.exp(a))\n",
    "print(np.log(a))\n",
    "print(np.log10(a))"
   ]
  },
  {
   "cell_type": "code",
   "execution_count": 15,
   "id": "c218b7f5-970e-4f87-ae54-ad172604924a",
   "metadata": {},
   "outputs": [
    {
     "name": "stdout",
     "output_type": "stream",
     "text": [
      "[[ 7  9  9  2]\n",
      " [16 11  9  6]\n",
      " [ 1  2  3  4]\n",
      " [ 5  6  7  8]]\n",
      "[[ 7  9  9  2  1  2  3  4]\n",
      " [16 11  9  6  5  6  7  8]]\n",
      "[ 7  9  9  2 16 11  9  6]\n"
     ]
    }
   ],
   "source": [
    "b = np.array([(7,9,9,2),(16,11,9,6)])\n",
    "f = np.array([(1,2,3,4),(5,6,7,8)])\n",
    "print(np.vstack((b,f))) #vertical stack\n",
    "print(np.hstack((b,f))) #horizontal stack\n",
    "print(b.ravel()) #merging as single"
   ]
  },
  {
   "cell_type": "code",
   "execution_count": 17,
   "id": "4e2d0f1d-264d-472c-b0f2-35b57441af54",
   "metadata": {
    "scrolled": true
   },
   "outputs": [
    {
     "name": "stdout",
     "output_type": "stream",
     "text": [
      "[[[ 1  2  3]\n",
      "  [ 4  5  6]]\n",
      "\n",
      " [[-1 -2 -3]\n",
      "  [-4 -5 -6]]]\n"
     ]
    }
   ],
   "source": [
    "threeDarray = np.array([\n",
    "    [[1,2,3],[4,5,6]],\n",
    "    [[-1,-2,-3],[-4,-5,-6]]\n",
    "])\n",
    "print(threeDarray)"
   ]
  },
  {
   "cell_type": "code",
   "execution_count": 24,
   "id": "e098c831-b9a3-4f79-8c68-c04802b3e426",
   "metadata": {},
   "outputs": [
    {
     "name": "stdout",
     "output_type": "stream",
     "text": [
      "1\n",
      "2\n",
      "3\n",
      "4\n",
      "5\n",
      "6\n",
      "-1\n",
      "-2\n",
      "-3\n",
      "-4\n",
      "-5\n",
      "-6\n"
     ]
    }
   ],
   "source": [
    "for i in threeDarray.flatten():\n",
    "     print(i)"
   ]
  },
  {
   "cell_type": "code",
   "execution_count": 25,
   "id": "ab1c8d3e-fe4e-450b-9733-65d79256cfce",
   "metadata": {},
   "outputs": [
    {
     "name": "stdout",
     "output_type": "stream",
     "text": [
      "[[[ 1  2  3]\n",
      "  [ 4  5  6]]\n",
      "\n",
      " [[-1 -2 -3]\n",
      "  [-4 -5 -6]]]\n",
      "[[[ 1  2  3]\n",
      "  [ 4  5  6]]\n",
      "\n",
      " [[-1 -2 -3]\n",
      "  [-4 -5 -6]]]\n"
     ]
    }
   ],
   "source": [
    "threeDarray.flatten()\n",
    "print(threeDarray)\n",
    "threeDarray.ravel\n",
    "print(threeDarray)"
   ]
  },
  {
   "cell_type": "code",
   "execution_count": 29,
   "id": "e59f75fa-af27-408c-8c84-b9aa3e560636",
   "metadata": {},
   "outputs": [],
   "source": [
    "##Filling array with specific value"
   ]
  },
  {
   "cell_type": "code",
   "execution_count": 30,
   "id": "60e513c6-ccc2-4c8c-99fe-76de92be47da",
   "metadata": {},
   "outputs": [
    {
     "name": "stdout",
     "output_type": "stream",
     "text": [
      "[0. 0. 0. 0. 0.]\n"
     ]
    }
   ],
   "source": [
    "#zeros\n",
    "zeros = np.zeros(5)\n",
    "print(zeros)"
   ]
  },
  {
   "cell_type": "code",
   "execution_count": 32,
   "id": "f0ec936f-643d-4175-867a-95f339dc603a",
   "metadata": {},
   "outputs": [
    {
     "name": "stdout",
     "output_type": "stream",
     "text": [
      "[1. 1. 1. 1. 1. 1. 1. 1.]\n"
     ]
    }
   ],
   "source": [
    "ones=np.ones(8)\n",
    "print(ones)"
   ]
  },
  {
   "cell_type": "code",
   "execution_count": 33,
   "id": "e6446b4e-e4ef-488b-adda-b29a97d6ea89",
   "metadata": {},
   "outputs": [
    {
     "name": "stdout",
     "output_type": "stream",
     "text": [
      "[1 1 1 1 1 1 1 1]\n"
     ]
    }
   ],
   "source": [
    "ones = ones.astype(int)\n",
    "print(ones)"
   ]
  },
  {
   "cell_type": "code",
   "execution_count": 35,
   "id": "56ed475e-a80e-4328-9181-c3dba928f43a",
   "metadata": {},
   "outputs": [],
   "source": [
    "#arange\n",
    "ranges = np.arange(5.6,9.8)"
   ]
  },
  {
   "cell_type": "code",
   "execution_count": 36,
   "id": "da83b7f9-6b8e-4ddd-ab62-b2cca6a355c6",
   "metadata": {},
   "outputs": [
    {
     "name": "stdout",
     "output_type": "stream",
     "text": [
      "[5.6 6.6 7.6 8.6 9.6]\n"
     ]
    }
   ],
   "source": [
    "print(ranges)"
   ]
  },
  {
   "cell_type": "code",
   "execution_count": 37,
   "id": "6c5739a5-c7b0-490a-8467-885272875368",
   "metadata": {},
   "outputs": [
    {
     "name": "stdout",
     "output_type": "stream",
     "text": [
      "[3.         3.03030303 3.06060606 3.09090909 3.12121212 3.15151515\n",
      " 3.18181818 3.21212121 3.24242424 3.27272727 3.3030303  3.33333333\n",
      " 3.36363636 3.39393939 3.42424242 3.45454545 3.48484848 3.51515152\n",
      " 3.54545455 3.57575758 3.60606061 3.63636364 3.66666667 3.6969697\n",
      " 3.72727273 3.75757576 3.78787879 3.81818182 3.84848485 3.87878788\n",
      " 3.90909091 3.93939394 3.96969697 4.         4.03030303 4.06060606\n",
      " 4.09090909 4.12121212 4.15151515 4.18181818 4.21212121 4.24242424\n",
      " 4.27272727 4.3030303  4.33333333 4.36363636 4.39393939 4.42424242\n",
      " 4.45454545 4.48484848 4.51515152 4.54545455 4.57575758 4.60606061\n",
      " 4.63636364 4.66666667 4.6969697  4.72727273 4.75757576 4.78787879\n",
      " 4.81818182 4.84848485 4.87878788 4.90909091 4.93939394 4.96969697\n",
      " 5.         5.03030303 5.06060606 5.09090909 5.12121212 5.15151515\n",
      " 5.18181818 5.21212121 5.24242424 5.27272727 5.3030303  5.33333333\n",
      " 5.36363636 5.39393939 5.42424242 5.45454545 5.48484848 5.51515152\n",
      " 5.54545455 5.57575758 5.60606061 5.63636364 5.66666667 5.6969697\n",
      " 5.72727273 5.75757576 5.78787879 5.81818182 5.84848485 5.87878788\n",
      " 5.90909091 5.93939394 5.96969697 6.        ]\n"
     ]
    }
   ],
   "source": [
    "#linaspace\n",
    "linspace = np.linspace(3,6,100)\n",
    "print(linspace)"
   ]
  },
  {
   "cell_type": "code",
   "execution_count": 38,
   "id": "8419fb1a-5190-4fa6-a8df-a415861b7714",
   "metadata": {},
   "outputs": [],
   "source": [
    "#scalar opration"
   ]
  },
  {
   "cell_type": "code",
   "execution_count": 39,
   "id": "40f73dea-05b9-49f8-9c64-61e86c077baa",
   "metadata": {},
   "outputs": [
    {
     "name": "stdout",
     "output_type": "stream",
     "text": [
      "[[76 34 89]\n",
      " [23 34 45]]\n"
     ]
    }
   ],
   "source": [
    "matrix = np.array([[76,34,89],[23,34,45]])\n",
    "print(matrix)"
   ]
  },
  {
   "cell_type": "code",
   "execution_count": 40,
   "id": "49b639a5-06c7-4205-9c31-77c89a79347e",
   "metadata": {},
   "outputs": [
    {
     "name": "stdout",
     "output_type": "stream",
     "text": [
      "[[78 36 91]\n",
      " [25 36 47]]\n"
     ]
    }
   ],
   "source": [
    "print(matrix + 2)"
   ]
  },
  {
   "cell_type": "code",
   "execution_count": 41,
   "id": "2027375f-51d6-48a1-b6ab-c8a1b6790045",
   "metadata": {},
   "outputs": [],
   "source": [
    "pythonlist = [[76,34,89],[23,34,45]]"
   ]
  },
  {
   "cell_type": "code",
   "execution_count": 42,
   "id": "6a3e8b2c-99a7-4e92-b2b1-1b722f882f73",
   "metadata": {},
   "outputs": [
    {
     "name": "stdout",
     "output_type": "stream",
     "text": [
      "[[76, 34, 89], [23, 34, 45]]\n"
     ]
    }
   ],
   "source": [
    "print(pythonlist)"
   ]
  },
  {
   "cell_type": "code",
   "execution_count": 43,
   "id": "ee9faa3b-e755-4601-a02a-e6b00f276714",
   "metadata": {},
   "outputs": [
    {
     "name": "stdout",
     "output_type": "stream",
     "text": [
      "[[76 23]\n",
      " [34 34]\n",
      " [89 45]]\n"
     ]
    }
   ],
   "source": [
    "print(matrix.T)"
   ]
  },
  {
   "cell_type": "code",
   "execution_count": 45,
   "id": "60f5b296-c01c-43c4-b6c7-9220bf0a9cba",
   "metadata": {},
   "outputs": [
    {
     "name": "stdout",
     "output_type": "stream",
     "text": [
      "[23 34 45]\n"
     ]
    }
   ],
   "source": [
    "print(matrix[1,]) #first row"
   ]
  },
  {
   "cell_type": "code",
   "execution_count": 46,
   "id": "b9a4e4cf-a3f9-4432-ae8d-fd4e117a77ad",
   "metadata": {},
   "outputs": [
    {
     "name": "stdout",
     "output_type": "stream",
     "text": [
      "1-dimention\n",
      "[5 5 5 5 5 5 5 5 5 5]\n",
      "2-dimention\n",
      "[[10 10]\n",
      " [10 10]]\n",
      "3-dimention\n",
      "[[[5 5 5 5]\n",
      "  [5 5 5 5]\n",
      "  [5 5 5 5]\n",
      "  [5 5 5 5]\n",
      "  [5 5 5 5]]\n",
      "\n",
      " [[5 5 5 5]\n",
      "  [5 5 5 5]\n",
      "  [5 5 5 5]\n",
      "  [5 5 5 5]\n",
      "  [5 5 5 5]]]\n"
     ]
    }
   ],
   "source": [
    "print(\"1-dimention\")\n",
    "full = np.full(10,5)\n",
    "print(full)\n",
    "\n",
    "print(\"2-dimention\")\n",
    "full = np.full((2,2),10)\n",
    "print(full)\n",
    "\n",
    "print(\"3-dimention\")\n",
    "full= np.full((2,5,4),5)\n",
    "print(full)"
   ]
  },
  {
   "cell_type": "code",
   "execution_count": 49,
   "id": "0858381d-172e-445c-9e7b-cb873ecdab5b",
   "metadata": {},
   "outputs": [],
   "source": [
    "pythonlist1 = [[76,34,89],[23,34,45]]\n",
    "pythonlist2 = [[76,34,89],[23,34,45]]"
   ]
  },
  {
   "cell_type": "code",
   "execution_count": 50,
   "id": "16f2623a-282f-4079-ba9f-a028558c694d",
   "metadata": {},
   "outputs": [
    {
     "data": {
      "text/plain": [
       "[[76, 34, 89], [23, 34, 45], [76, 34, 89], [23, 34, 45]]"
      ]
     },
     "execution_count": 50,
     "metadata": {},
     "output_type": "execute_result"
    }
   ],
   "source": [
    "pythonlist1 + pythonlist2"
   ]
  },
  {
   "cell_type": "code",
   "execution_count": 52,
   "id": "25f6b463-9bc7-4e5c-8ada-33ac6de70ef0",
   "metadata": {},
   "outputs": [],
   "source": [
    "matrix1 = np.array([[1,2,3],[4,5,6]])\n",
    "matrix2 = np.array([[7,8,9],[10,11,12]])"
   ]
  },
  {
   "cell_type": "code",
   "execution_count": 54,
   "id": "ab5495dd-c4eb-48de-88b2-e2ad84ea9ce9",
   "metadata": {},
   "outputs": [
    {
     "name": "stdout",
     "output_type": "stream",
     "text": [
      "[[ 8 10 12]\n",
      " [14 16 18]]\n"
     ]
    }
   ],
   "source": [
    "print(matrix1 + matrix2)"
   ]
  },
  {
   "cell_type": "code",
   "execution_count": 59,
   "id": "b404e306-3c00-457e-9f47-336b58b8a845",
   "metadata": {},
   "outputs": [],
   "source": [
    "marks = np.array([\n",
    "    [87,90,89],[100,87,90],\n",
    "    [94,77,90],[100,86,98]\n",
    "])"
   ]
  },
  {
   "cell_type": "code",
   "execution_count": 60,
   "id": "cc9792af-7c52-42df-8467-7b21085ba0be",
   "metadata": {},
   "outputs": [
    {
     "name": "stdout",
     "output_type": "stream",
     "text": [
      "77\n",
      "100\n",
      "1088\n"
     ]
    }
   ],
   "source": [
    "print(marks.min())\n",
    "print(marks.max())\n",
    "print(marks.sum())\n"
   ]
  },
  {
   "cell_type": "code",
   "execution_count": 61,
   "id": "845995e0-6488-4999-a642-084b1fe7a8ea",
   "metadata": {},
   "outputs": [
    {
     "name": "stdout",
     "output_type": "stream",
     "text": [
      "[87 87 77 86]\n",
      "[ 90 100  94 100]\n",
      "[266 277 261 284]\n",
      "[87 87 77 86]\n",
      "[1.24721913 5.55777733 7.25718035 6.18241233]\n"
     ]
    }
   ],
   "source": [
    "#axis =1 means eow    \n",
    "print(marks.min(axis = 1))\n",
    "print(marks.max(axis = 1))\n",
    "print(marks.sum(axis = 1))\n",
    "print(marks.min(axis = 1))\n",
    "print(marks.std(axis = 1))"
   ]
  },
  {
   "cell_type": "code",
   "execution_count": 62,
   "id": "f36b4d93-62b5-4f63-bf12-0e993e07e97b",
   "metadata": {},
   "outputs": [],
   "source": [
    "#append"
   ]
  },
  {
   "cell_type": "code",
   "execution_count": 64,
   "id": "6c5b2ed5-71a8-4e90-a5fe-6820329c78de",
   "metadata": {},
   "outputs": [],
   "source": [
    "x = np.array([\n",
    "    [87,90,89],[100,87,90],\n",
    "    [94,77,90],[100,86,98]\n",
    "])"
   ]
  },
  {
   "cell_type": "code",
   "execution_count": 65,
   "id": "4f4cb88c-ae93-4790-8fdd-c08dfc4c695b",
   "metadata": {},
   "outputs": [
    {
     "data": {
      "text/plain": [
       "array([ 87,  90,  89, 100,  87,  90,  94,  77,  90, 100,  86,  98,   2,\n",
       "         3])"
      ]
     },
     "execution_count": 65,
     "metadata": {},
     "output_type": "execute_result"
    }
   ],
   "source": [
    "np.append(x,(2,3))"
   ]
  },
  {
   "cell_type": "code",
   "execution_count": 66,
   "id": "eb514879-5e79-42fe-8025-b37792ce98bf",
   "metadata": {},
   "outputs": [],
   "source": [
    "new_array = np.array([1,2,3])\n"
   ]
  },
  {
   "cell_type": "code",
   "execution_count": 67,
   "id": "1532f7f8-cd95-4ffe-b077-405837009b1b",
   "metadata": {},
   "outputs": [
    {
     "data": {
      "text/plain": [
       "array([[1, 2, 3],\n",
       "       [4, 5, 6],\n",
       "       [1, 2, 3],\n",
       "       [1, 2, 3]])"
      ]
     },
     "execution_count": 67,
     "metadata": {},
     "output_type": "execute_result"
    }
   ],
   "source": [
    "x = np.append ([[1,2,3],[4,5,6]],[[1,2,3],new_array],axis=0)\n",
    "x"
   ]
  },
  {
   "cell_type": "code",
   "execution_count": 68,
   "id": "2bc2d728-ee6e-4a4e-a421-c8e8bebcd911",
   "metadata": {},
   "outputs": [
    {
     "data": {
      "text/plain": [
       "2"
      ]
     },
     "execution_count": 68,
     "metadata": {},
     "output_type": "execute_result"
    }
   ],
   "source": [
    "x.ndim"
   ]
  },
  {
   "cell_type": "code",
   "execution_count": 69,
   "id": "e260ddd8-39f8-4a5a-a0e5-78d1446849bb",
   "metadata": {},
   "outputs": [
    {
     "data": {
      "text/plain": [
       "array([[1, 4, 1, 1],\n",
       "       [2, 5, 2, 2],\n",
       "       [3, 6, 3, 3]])"
      ]
     },
     "execution_count": 69,
     "metadata": {},
     "output_type": "execute_result"
    }
   ],
   "source": [
    "np.transpose(x)"
   ]
  },
  {
   "cell_type": "code",
   "execution_count": 70,
   "id": "7ae23310-e985-4954-9af2-ceebd5f4a6d6",
   "metadata": {},
   "outputs": [
    {
     "data": {
      "text/plain": [
       "array([[1, 4, 1, 1],\n",
       "       [2, 5, 2, 2],\n",
       "       [3, 6, 3, 3]])"
      ]
     },
     "execution_count": 70,
     "metadata": {},
     "output_type": "execute_result"
    }
   ],
   "source": [
    "x.T"
   ]
  },
  {
   "cell_type": "code",
   "execution_count": 72,
   "id": "205377e0-bbb5-4707-a11e-efd3d0a78dba",
   "metadata": {},
   "outputs": [],
   "source": [
    "arr = np.array([\n",
    "    [87,90,89],[100,87,90],\n",
    "    [94,77,90],[100,86,98]\n",
    "])"
   ]
  },
  {
   "cell_type": "code",
   "execution_count": 73,
   "id": "18711816-faea-4c75-bfa0-b323c7a1580a",
   "metadata": {},
   "outputs": [
    {
     "data": {
      "text/plain": [
       "array([ 87,  90,  89, 100,  87,  90,  94,  77,  90, 100,  86,  98])"
      ]
     },
     "execution_count": 73,
     "metadata": {},
     "output_type": "execute_result"
    }
   ],
   "source": [
    "arr[arr>4]"
   ]
  },
  {
   "cell_type": "code",
   "execution_count": 74,
   "id": "eacf23da-ddd9-4d2a-981c-a2c55f9ca8ac",
   "metadata": {},
   "outputs": [],
   "source": [
    "array = np.arange(12)"
   ]
  },
  {
   "cell_type": "code",
   "execution_count": 75,
   "id": "5e64a080-5046-4443-b5c5-d78894055934",
   "metadata": {},
   "outputs": [],
   "source": [
    "array.shape = (3,4)"
   ]
  },
  {
   "cell_type": "code",
   "execution_count": 78,
   "id": "231853e6-f17d-490d-acde-1c15f1749774",
   "metadata": {},
   "outputs": [
    {
     "data": {
      "text/plain": [
       "array([[[ 0,  1],\n",
       "        [ 2,  3],\n",
       "        [ 4,  5]],\n",
       "\n",
       "       [[ 6,  7],\n",
       "        [ 8,  9],\n",
       "        [10, 11]]])"
      ]
     },
     "execution_count": 78,
     "metadata": {},
     "output_type": "execute_result"
    }
   ],
   "source": [
    "np.arange(12).reshape((2,3,2))"
   ]
  },
  {
   "cell_type": "code",
   "execution_count": 82,
   "id": "dfd04b99-afd3-4d60-9ae2-af038edfeee9",
   "metadata": {},
   "outputs": [],
   "source": [
    "#save and load array"
   ]
  },
  {
   "cell_type": "code",
   "execution_count": 84,
   "id": "f8ac427c-bd9e-4a92-b8ae-0909ff309b15",
   "metadata": {},
   "outputs": [],
   "source": [
    "array = np.random.randint(10,20,(5,5))\n",
    "np.save('array_file',array)"
   ]
  },
  {
   "cell_type": "code",
   "execution_count": 85,
   "id": "7dc12bcb-5998-436d-b0fd-fc19f7273105",
   "metadata": {},
   "outputs": [
    {
     "name": "stdout",
     "output_type": "stream",
     "text": [
      "[[11 10 17 13 17]\n",
      " [12 18 16 18 11]\n",
      " [15 10 14 14 16]\n",
      " [17 19 11 15 12]\n",
      " [19 12 16 15 17]]\n"
     ]
    }
   ],
   "source": [
    "array2 = np.load('array_file.npy')\n",
    "print(array2)"
   ]
  },
  {
   "cell_type": "code",
   "execution_count": null,
   "id": "607e6d1e-f847-4a1a-8059-b771b4733dbe",
   "metadata": {},
   "outputs": [],
   "source": []
  }
 ],
 "metadata": {
  "kernelspec": {
   "display_name": "Python 3 (ipykernel)",
   "language": "python",
   "name": "python3"
  },
  "language_info": {
   "codemirror_mode": {
    "name": "ipython",
    "version": 3
   },
   "file_extension": ".py",
   "mimetype": "text/x-python",
   "name": "python",
   "nbconvert_exporter": "python",
   "pygments_lexer": "ipython3",
   "version": "3.12.4"
  }
 },
 "nbformat": 4,
 "nbformat_minor": 5
}
