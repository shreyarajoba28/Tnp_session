{
 "cells": [
  {
   "cell_type": "code",
   "execution_count": 1,
   "id": "5732dd36-cc49-4da5-ba04-30e4c025d82e",
   "metadata": {},
   "outputs": [
    {
     "data": {
      "text/plain": [
       "'hello'"
      ]
     },
     "execution_count": 1,
     "metadata": {},
     "output_type": "execute_result"
    }
   ],
   "source": [
    "\"hello\""
   ]
  },
  {
   "cell_type": "code",
   "execution_count": 2,
   "id": "0c9148f0-853a-4f1a-87d6-1b9364bc8035",
   "metadata": {},
   "outputs": [
    {
     "data": {
      "text/plain": [
       "'Hello,Welcome to WIT'"
      ]
     },
     "execution_count": 2,
     "metadata": {},
     "output_type": "execute_result"
    }
   ],
   "source": [
    "\"Hello,Welcome to WIT\""
   ]
  },
  {
   "cell_type": "code",
   "execution_count": 3,
   "id": "441f3f4d-e307-4d11-85b3-115a870eff03",
   "metadata": {},
   "outputs": [
    {
     "name": "stdout",
     "output_type": "stream",
     "text": [
      "Hello\n",
      "Welcome to wit\n",
      "i am shreya \n",
      " from wit\n",
      "\n",
      "\n",
      "it give a new line space\n"
     ]
    }
   ],
   "source": [
    "print('Hello')\n",
    "print('Welcome to wit')\n",
    "print('i am shreya \\n from wit')\n",
    "print('\\n')\n",
    "print('it give a new line space')"
   ]
  },
  {
   "cell_type": "code",
   "execution_count": 4,
   "id": "8766b114-a9b7-4476-8458-dcd81c1cbc1f",
   "metadata": {},
   "outputs": [
    {
     "data": {
      "text/plain": [
       "17"
      ]
     },
     "execution_count": 4,
     "metadata": {},
     "output_type": "execute_result"
    }
   ],
   "source": [
    "len('hello i am shreya')"
   ]
  },
  {
   "cell_type": "code",
   "execution_count": 5,
   "id": "5903941c-567c-40ba-b708-6fa8ed6b7529",
   "metadata": {},
   "outputs": [
    {
     "data": {
      "text/plain": [
       "'I am Shreya'"
      ]
     },
     "execution_count": 5,
     "metadata": {},
     "output_type": "execute_result"
    }
   ],
   "source": [
    "str = 'I am Shreya'\n",
    "str"
   ]
  },
  {
   "cell_type": "code",
   "execution_count": 6,
   "id": "fc5eef5e-a6fd-459a-a952-d28cdbe4e002",
   "metadata": {},
   "outputs": [
    {
     "data": {
      "text/plain": [
       "11"
      ]
     },
     "execution_count": 6,
     "metadata": {},
     "output_type": "execute_result"
    }
   ],
   "source": [
    "len(str)"
   ]
  },
  {
   "cell_type": "code",
   "execution_count": 19,
   "id": "20363545-d9f8-4b64-9600-217df3f5d691",
   "metadata": {},
   "outputs": [],
   "source": [
    "str1 = 'This is my Challenge from Microsoft'"
   ]
  },
  {
   "cell_type": "code",
   "execution_count": 20,
   "id": "e1dda4f9-4e7b-47ca-918e-6cc208085926",
   "metadata": {},
   "outputs": [
    {
     "data": {
      "text/plain": [
       "35"
      ]
     },
     "execution_count": 20,
     "metadata": {},
     "output_type": "execute_result"
    }
   ],
   "source": [
    "len(str1)"
   ]
  },
  {
   "cell_type": "code",
   "execution_count": 21,
   "id": "4016ecde-1813-4c1c-95fd-d455d4af35a7",
   "metadata": {},
   "outputs": [
    {
     "data": {
      "text/plain": [
       "'T'"
      ]
     },
     "execution_count": 21,
     "metadata": {},
     "output_type": "execute_result"
    }
   ],
   "source": [
    "str1[0]"
   ]
  },
  {
   "cell_type": "code",
   "execution_count": 22,
   "id": "5f46455d-2f40-449c-b799-40e10cc8499e",
   "metadata": {},
   "outputs": [
    {
     "data": {
      "text/plain": [
       "'his is my Challenge from Microsoft'"
      ]
     },
     "execution_count": 22,
     "metadata": {},
     "output_type": "execute_result"
    }
   ],
   "source": [
    "str1[1:]"
   ]
  },
  {
   "cell_type": "code",
   "execution_count": 23,
   "id": "6e92e6dd-fe74-4de6-9176-c03d7beee80c",
   "metadata": {},
   "outputs": [
    {
     "data": {
      "text/plain": [
       "'This is my Challenge from Microsoft'"
      ]
     },
     "execution_count": 23,
     "metadata": {},
     "output_type": "execute_result"
    }
   ],
   "source": [
    "str1[0:]"
   ]
  },
  {
   "cell_type": "code",
   "execution_count": 24,
   "id": "45b4e57c-ce38-4bae-bd43-63009b420bc3",
   "metadata": {},
   "outputs": [
    {
     "data": {
      "text/plain": [
       "'This '"
      ]
     },
     "execution_count": 24,
     "metadata": {},
     "output_type": "execute_result"
    }
   ],
   "source": [
    "str1[0:5]"
   ]
  },
  {
   "cell_type": "code",
   "execution_count": 25,
   "id": "e2b4cdf3-6605-4dbe-af3c-30d1c9db06d9",
   "metadata": {},
   "outputs": [
    {
     "data": {
      "text/plain": [
       "'This is my Challenge from Microsoft, and i will complete this'"
      ]
     },
     "execution_count": 25,
     "metadata": {},
     "output_type": "execute_result"
    }
   ],
   "source": [
    "str1 + ', and i will complete this'"
   ]
  },
  {
   "cell_type": "code",
   "execution_count": 26,
   "id": "e77c825d-e8f2-445d-87ee-1cf6a4b8249a",
   "metadata": {},
   "outputs": [
    {
     "data": {
      "text/plain": [
       "['This', 'is', 'my', 'Challenge', 'from', 'Microsoft']"
      ]
     },
     "execution_count": 26,
     "metadata": {},
     "output_type": "execute_result"
    }
   ],
   "source": [
    "str1.split()"
   ]
  },
  {
   "cell_type": "code",
   "execution_count": 28,
   "id": "1513b95e-69df-47d4-bb98-1939da4f9e82",
   "metadata": {},
   "outputs": [
    {
     "name": "stdout",
     "output_type": "stream",
     "text": [
      " I will learn python then also Ai\n"
     ]
    }
   ],
   "source": [
    "print(' I will learn {} then also {}' .format('python' , 'Ai')) "
   ]
  },
  {
   "cell_type": "code",
   "execution_count": 30,
   "id": "dfc4837c-d6dd-463d-a80f-9aa0df53fe1b",
   "metadata": {},
   "outputs": [
    {
     "name": "stdout",
     "output_type": "stream",
     "text": [
      "the colours are black blue red \n"
     ]
    }
   ],
   "source": [
    "print('the colours are {2} {1} {0} ' .format('red', 'blue', 'black')) "
   ]
  },
  {
   "cell_type": "code",
   "execution_count": 31,
   "id": "8edc4f77-4bf2-4f8a-a31b-96f2c7408093",
   "metadata": {},
   "outputs": [
    {
     "name": "stdout",
     "output_type": "stream",
     "text": [
      "first object:1,second object:three,third object:4\n"
     ]
    }
   ],
   "source": [
    "print('first object:{a},second object:{b},third object:{c}'.format(a=1,b='three',c=4))"
   ]
  },
  {
   "cell_type": "code",
   "execution_count": 37,
   "id": "8b15314e-49ff-43cd-ae0d-cedeb96cc1fe",
   "metadata": {},
   "outputs": [
    {
     "data": {
      "text/plain": [
       "[1, 2, 'A', 'Three', 'Shreya']"
      ]
     },
     "execution_count": 37,
     "metadata": {},
     "output_type": "execute_result"
    }
   ],
   "source": [
    "my_list = [1,2,'A','Three','Shreya']\n",
    "my_list"
   ]
  },
  {
   "cell_type": "code",
   "execution_count": 38,
   "id": "e9a20707-3fe9-455b-9e61-ca97ce092215",
   "metadata": {},
   "outputs": [
    {
     "data": {
      "text/plain": [
       "5"
      ]
     },
     "execution_count": 38,
     "metadata": {},
     "output_type": "execute_result"
    }
   ],
   "source": [
    "len(my_list)"
   ]
  },
  {
   "cell_type": "code",
   "execution_count": 39,
   "id": "0917ac21-8f23-44f9-b590-8408beae19f7",
   "metadata": {},
   "outputs": [
    {
     "data": {
      "text/plain": [
       "[1, 2, 'A', 'Three', 'Shreya']"
      ]
     },
     "execution_count": 39,
     "metadata": {},
     "output_type": "execute_result"
    }
   ],
   "source": [
    "my_list"
   ]
  },
  {
   "cell_type": "code",
   "execution_count": 43,
   "id": "b930fa7e-30dd-4c71-8bfe-229a54e5f081",
   "metadata": {},
   "outputs": [
    {
     "data": {
      "text/plain": [
       "1"
      ]
     },
     "execution_count": 43,
     "metadata": {},
     "output_type": "execute_result"
    }
   ],
   "source": [
    "my_list[0]"
   ]
  },
  {
   "cell_type": "code",
   "execution_count": 44,
   "id": "eb32bac5-deff-441c-bb5b-9601a960a618",
   "metadata": {},
   "outputs": [
    {
     "data": {
      "text/plain": [
       "[1, 2, 'A', 'Three']"
      ]
     },
     "execution_count": 44,
     "metadata": {},
     "output_type": "execute_result"
    }
   ],
   "source": [
    "my_list[0:4]"
   ]
  },
  {
   "cell_type": "code",
   "execution_count": 45,
   "id": "c9bf33db-0c50-4bf2-8f8b-a3a6af171759",
   "metadata": {},
   "outputs": [
    {
     "data": {
      "text/plain": [
       "[1, 2, 'A', 'Three', 'Shreya', 'new_item']"
      ]
     },
     "execution_count": 45,
     "metadata": {},
     "output_type": "execute_result"
    }
   ],
   "source": [
    "my_list + ['new_item']"
   ]
  },
  {
   "cell_type": "code",
   "execution_count": 46,
   "id": "30174dbe-14ad-4c8c-a714-bc7e6c3d4780",
   "metadata": {},
   "outputs": [
    {
     "data": {
      "text/plain": [
       "[1, 2, 'A', 'Three', 'Shreya', 'my new item for last']"
      ]
     },
     "execution_count": 46,
     "metadata": {},
     "output_type": "execute_result"
    }
   ],
   "source": [
    "my_list + ['my new item for last']"
   ]
  },
  {
   "cell_type": "code",
   "execution_count": 51,
   "id": "6c87dcf9-109f-42ea-96e0-60179be74d9d",
   "metadata": {},
   "outputs": [
    {
     "data": {
      "text/plain": [
       "[1, 2, 3, 4, 5, 6]"
      ]
     },
     "execution_count": 51,
     "metadata": {},
     "output_type": "execute_result"
    }
   ],
   "source": [
    "new_list = [1,2,3,4,5,6]\n",
    "new_list"
   ]
  },
  {
   "cell_type": "code",
   "execution_count": 52,
   "id": "c8ea08cd-15dc-4251-8319-886b86023e5a",
   "metadata": {},
   "outputs": [
    {
     "data": {
      "text/plain": [
       "[1, 2, 3, 4, 5, 6, 'append']"
      ]
     },
     "execution_count": 52,
     "metadata": {},
     "output_type": "execute_result"
    }
   ],
   "source": [
    "new_list.append('append')\n",
    "new_list"
   ]
  },
  {
   "cell_type": "code",
   "execution_count": 53,
   "id": "f1db2fe7-11e6-47f6-8dce-a2c62ee4a8ff",
   "metadata": {},
   "outputs": [
    {
     "data": {
      "text/plain": [
       "'append'"
      ]
     },
     "execution_count": 53,
     "metadata": {},
     "output_type": "execute_result"
    }
   ],
   "source": [
    "new_list.pop()"
   ]
  },
  {
   "cell_type": "code",
   "execution_count": 54,
   "id": "093d2ba4-062f-4c2f-8130-2e9a20b893de",
   "metadata": {},
   "outputs": [
    {
     "data": {
      "text/plain": [
       "4"
      ]
     },
     "execution_count": 54,
     "metadata": {},
     "output_type": "execute_result"
    }
   ],
   "source": [
    "new_list.pop(3)"
   ]
  },
  {
   "cell_type": "code",
   "execution_count": 106,
   "id": "1f975c27-771b-4773-b63b-17924e88a0db",
   "metadata": {},
   "outputs": [
    {
     "data": {
      "text/plain": [
       "{'key1': 123, 'key2': [1, 2, 3], 'key3': ['shreya', 'rucha', 'akshara']}"
      ]
     },
     "execution_count": 106,
     "metadata": {},
     "output_type": "execute_result"
    }
   ],
   "source": [
    "#Dictionary\n",
    "Dist = {'key1':123 ,'key2':[1,2,3],'key3':['shreya','rucha','akshara']}\n",
    "Dist"
   ]
  },
  {
   "cell_type": "code",
   "execution_count": 90,
   "id": "4f8b92e6-7a7f-4427-a340-00cc514d0c97",
   "metadata": {},
   "outputs": [
    {
     "data": {
      "text/plain": [
       "123"
      ]
     },
     "execution_count": 90,
     "metadata": {},
     "output_type": "execute_result"
    }
   ],
   "source": [
    "Dist.pop('key1')"
   ]
  },
  {
   "cell_type": "code",
   "execution_count": 91,
   "id": "0a1ecc24-63a7-4c30-877a-f6f862d4c099",
   "metadata": {},
   "outputs": [
    {
     "data": {
      "text/plain": [
       "1"
      ]
     },
     "execution_count": 91,
     "metadata": {},
     "output_type": "execute_result"
    }
   ],
   "source": [
    "Dist['key2'][0]"
   ]
  },
  {
   "cell_type": "code",
   "execution_count": 92,
   "id": "d856fdfd-4ac4-4cf6-9be3-4a872d281f61",
   "metadata": {},
   "outputs": [
    {
     "data": {
      "text/plain": [
       "'SHREYA'"
      ]
     },
     "execution_count": 92,
     "metadata": {},
     "output_type": "execute_result"
    }
   ],
   "source": [
    "Dist['key3'][0].upper()"
   ]
  },
  {
   "cell_type": "code",
   "execution_count": 93,
   "id": "4700cbf9-0eb7-415e-91ad-02b860941a2d",
   "metadata": {},
   "outputs": [
    {
     "ename": "KeyError",
     "evalue": "'key1'",
     "output_type": "error",
     "traceback": [
      "\u001b[1;31m---------------------------------------------------------------------------\u001b[0m",
      "\u001b[1;31mKeyError\u001b[0m                                  Traceback (most recent call last)",
      "Cell \u001b[1;32mIn[93], line 1\u001b[0m\n\u001b[1;32m----> 1\u001b[0m Dist[\u001b[38;5;124m'\u001b[39m\u001b[38;5;124mkey1\u001b[39m\u001b[38;5;124m'\u001b[39m] \u001b[38;5;241m=\u001b[39m \u001b[43mDist\u001b[49m\u001b[43m \u001b[49m\u001b[43m[\u001b[49m\u001b[38;5;124;43m'\u001b[39;49m\u001b[38;5;124;43mkey1\u001b[39;49m\u001b[38;5;124;43m'\u001b[39;49m\u001b[43m]\u001b[49m \u001b[38;5;241m+\u001b[39m \u001b[38;5;241m1\u001b[39m,\u001b[38;5;241m2\u001b[39m,\u001b[38;5;241m3\u001b[39m\n",
      "\u001b[1;31mKeyError\u001b[0m: 'key1'"
     ]
    }
   ],
   "source": [
    "Dist['key1'] = Dist ['key1'] + 1,2,3"
   ]
  },
  {
   "cell_type": "code",
   "execution_count": 105,
   "id": "3c5a1496-341c-4f2f-b97f-b74c4a40435a",
   "metadata": {},
   "outputs": [
    {
     "data": {
      "text/plain": [
       "(1, 2, 3, 3, 'shreya', 'rucha')"
      ]
     },
     "execution_count": 105,
     "metadata": {},
     "output_type": "execute_result"
    }
   ],
   "source": [
    "#tuple\n",
    "tuple = (1,2,3,3,'shreya','rucha')\n",
    "tuple"
   ]
  },
  {
   "cell_type": "code",
   "execution_count": 96,
   "id": "7fa667c4-7906-4cc1-9198-3b64cebb8e24",
   "metadata": {},
   "outputs": [
    {
     "data": {
      "text/plain": [
       "6"
      ]
     },
     "execution_count": 96,
     "metadata": {},
     "output_type": "execute_result"
    }
   ],
   "source": [
    "len(tuple)"
   ]
  },
  {
   "cell_type": "code",
   "execution_count": 97,
   "id": "53622fb0-1eed-4f14-ade4-af424fccdb52",
   "metadata": {},
   "outputs": [
    {
     "data": {
      "text/plain": [
       "3"
      ]
     },
     "execution_count": 97,
     "metadata": {},
     "output_type": "execute_result"
    }
   ],
   "source": [
    "tuple[2]"
   ]
  },
  {
   "cell_type": "code",
   "execution_count": 98,
   "id": "c31f4057-1dc8-435e-9bb1-d5edffdecb91",
   "metadata": {},
   "outputs": [
    {
     "data": {
      "text/plain": [
       "'rucha'"
      ]
     },
     "execution_count": 98,
     "metadata": {},
     "output_type": "execute_result"
    }
   ],
   "source": [
    "tuple[5]"
   ]
  },
  {
   "cell_type": "code",
   "execution_count": 102,
   "id": "d8252ee2-736b-4873-9a94-55ba888525d5",
   "metadata": {},
   "outputs": [
    {
     "data": {
      "text/plain": [
       "'rucha'"
      ]
     },
     "execution_count": 102,
     "metadata": {},
     "output_type": "execute_result"
    }
   ],
   "source": [
    "tuple[-1]"
   ]
  },
  {
   "cell_type": "code",
   "execution_count": 104,
   "id": "4154ef80-0b5b-4dc7-b116-43bea219bef0",
   "metadata": {},
   "outputs": [
    {
     "data": {
      "text/plain": [
       "{1, 2, 3, 4, 5}"
      ]
     },
     "execution_count": 104,
     "metadata": {},
     "output_type": "execute_result"
    }
   ],
   "source": [
    "#set\n",
    "{1,2,3,4,5}"
   ]
  },
  {
   "cell_type": "code",
   "execution_count": 107,
   "id": "910c20cb-f8e6-41c1-ad1b-1efb5d3d35a1",
   "metadata": {},
   "outputs": [
    {
     "data": {
      "text/plain": [
       "{1, 2, 3, 4, 5}"
      ]
     },
     "execution_count": 107,
     "metadata": {},
     "output_type": "execute_result"
    }
   ],
   "source": [
    "{1,2,2,3,4,4,5}"
   ]
  },
  {
   "cell_type": "code",
   "execution_count": 108,
   "id": "863bdc0d-1208-42dd-ab94-6741412c9937",
   "metadata": {},
   "outputs": [
    {
     "data": {
      "text/plain": [
       "set"
      ]
     },
     "execution_count": 108,
     "metadata": {},
     "output_type": "execute_result"
    }
   ],
   "source": [
    "type({1,2,3,4})"
   ]
  },
  {
   "cell_type": "code",
   "execution_count": 113,
   "id": "aa840213-07d3-4423-918a-fedfae64d8a8",
   "metadata": {},
   "outputs": [],
   "source": [
    "set.add(1)"
   ]
  },
  {
   "cell_type": "code",
   "execution_count": 115,
   "id": "48bd35ff-f147-4b29-8a1e-aa1230751bee",
   "metadata": {},
   "outputs": [],
   "source": [
    "set.add(2)"
   ]
  },
  {
   "cell_type": "code",
   "execution_count": 116,
   "id": "b9735f41-b3e6-4186-a6c9-2a9d7b987a2b",
   "metadata": {},
   "outputs": [],
   "source": [
    "set.add(3)"
   ]
  },
  {
   "cell_type": "code",
   "execution_count": 117,
   "id": "21a9b93f-3e54-4fc9-beaf-7755943b3511",
   "metadata": {},
   "outputs": [
    {
     "data": {
      "text/plain": [
       "{1, 2, 3}"
      ]
     },
     "execution_count": 117,
     "metadata": {},
     "output_type": "execute_result"
    }
   ],
   "source": [
    "set"
   ]
  },
  {
   "cell_type": "code",
   "execution_count": 118,
   "id": "003fe726-3ee7-4d80-8065-44825d7dbe8c",
   "metadata": {},
   "outputs": [
    {
     "name": "stdout",
     "output_type": "stream",
     "text": [
      "Yes! It was true.\n"
     ]
    }
   ],
   "source": [
    "if True:\n",
    "    print(\"Yes! It was true.\")"
   ]
  },
  {
   "cell_type": "code",
   "execution_count": 119,
   "id": "dd92699e-91b5-4dca-a11f-a59779ba22f6",
   "metadata": {},
   "outputs": [
    {
     "name": "stdout",
     "output_type": "stream",
     "text": [
      "i will be printed in any case where False is not true\n"
     ]
    }
   ],
   "source": [
    "x = False\n",
    "\n",
    "if x:\n",
    "    print(\"yes! it was true\")\n",
    "else:\n",
    "    print('i will be printed in any case where {} is not true'.format(x))"
   ]
  },
  {
   "cell_type": "code",
   "execution_count": 1,
   "id": "e9314029-e62c-42bd-bd0c-3485f4d35509",
   "metadata": {},
   "outputs": [
    {
     "name": "stdin",
     "output_type": "stream",
     "text": [
      "enter 1st no 3\n",
      "enter 2nd no 4\n",
      "enter 3rd no 6\n"
     ]
    },
    {
     "name": "stdout",
     "output_type": "stream",
     "text": [
      "c is greater\n"
     ]
    }
   ],
   "source": [
    "a=int(input('enter 1st no'))\n",
    "b=int(input('enter 2nd no'))\n",
    "c=int(input('enter 3rd no'))\n",
    "if a>b and a>c:\n",
    "    print('a is greater')\n",
    "elif b>a and b>c:\n",
    "    print('b is greater')\n",
    "else:\n",
    "    print('c is greater')\n"
   ]
  },
  {
   "cell_type": "code",
   "execution_count": 8,
   "id": "093fe6ba-a804-4c6a-89c3-9e1ab784610e",
   "metadata": {},
   "outputs": [
    {
     "name": "stdin",
     "output_type": "stream",
     "text": [
      "Enter the number of units consumed:  1500\n"
     ]
    },
    {
     "name": "stdout",
     "output_type": "stream",
     "text": [
      "Total electricity bill for 1500 units: Rs. 14900\n"
     ]
    }
   ],
   "source": [
    "# Electricity Bill Calculation\n",
    "\n",
    "def calculate_electricity_bill(units):\n",
    "    if units <= 200:\n",
    "        bill = 0\n",
    "    elif units <= 500:\n",
    "        bill = (units - 200) * 8\n",
    "    elif units <= 1000:\n",
    "        bill = (300 * 8) + (units - 500) * 11\n",
    "    else:\n",
    "        bill = (300 * 8) + (500 * 11) + (units - 1000) * 14\n",
    "    \n",
    "    return bill\n",
    "\n",
    "units = int(input(\"Enter the number of units consumed: \"))\n",
    "bill_amount = calculate_electricity_bill(units)\n",
    "\n",
    "print(f\"Total electricity bill for {units} units: Rs. {bill_amount}\")"
   ]
  },
  {
   "cell_type": "code",
   "execution_count": 10,
   "id": "882c34f6-83d1-43c7-811f-ee7a6427dd4b",
   "metadata": {},
   "outputs": [
    {
     "name": "stdout",
     "output_type": "stream",
     "text": [
      "Total income: 4500000\n",
      "Income tax: Rs. 1130000.0\n"
     ]
    }
   ],
   "source": [
    "def calculate_income_tax(total_income):\n",
    "    tax = 0\n",
    "\n",
    "   \n",
    "    if total_income <= 1000000:\n",
    "        tax = total_income * 0.10\n",
    "    elif total_income <= 1200000:\n",
    "        tax = 1000000 * 0.10 + (total_income - 1000000) * 0.20\n",
    "    elif total_income <= 3000000:\n",
    "        tax = 1000000 * 0.10 + 200000 * 0.20 + (total_income - 1200000) * 0.30\n",
    "    else:\n",
    "        tax = 1000000 * 0.10 + 200000 * 0.20 + 1800000 * 0.30 + (total_income - 3000000) * 0.30\n",
    "    \n",
    "    return tax\n",
    "\n",
    "\n",
    "total_income = 4500000\n",
    "tax = calculate_income_tax(total_income)\n",
    "\n",
    "print(f\"Total income: {total_income}\")\n",
    "print(f\"Income tax: Rs. {tax}\") "
   ]
  },
  {
   "cell_type": "code",
   "execution_count": 36,
   "id": "be89186d-6a6b-436b-8fe9-4ef13a840914",
   "metadata": {},
   "outputs": [
    {
     "name": "stdout",
     "output_type": "stream",
     "text": [
      "Total interest earned in 1 year on ₹6500000: ₹1045000.0\n"
     ]
    }
   ],
   "source": [
    "def calculate_fd_interest(amount, years=1):\n",
    "    first_limit = 10_00_000  \n",
    "    second_limit = 15_00_000 \n",
    "    remaining_limit = amount - (first_limit + second_limit)\n",
    "    \n",
    "    interest_first = first_limit * 0.10 * years  \n",
    "    interest_second = second_limit * 0.15 * years \n",
    "    interest_remaining = remaining_limit * 0.18 * years  \n",
    "    \n",
    "    total_interest = interest_first + interest_second + interest_remaining\n",
    "    \n",
    "    return total_interest\n",
    "\n",
    "# Total FD amount\n",
    "fd_amount = 65_00_000\n",
    "interest_earned = calculate_fd_interest(fd_amount, 1)  \n",
    "print(f\"Total interest earned in 1 year on ₹{fd_amount}: ₹{interest_earned}\")\n"
   ]
  },
  {
   "cell_type": "code",
   "execution_count": 37,
   "id": "602d48ef-8072-4108-8860-8c20efbf52d8",
   "metadata": {},
   "outputs": [
    {
     "name": "stdout",
     "output_type": "stream",
     "text": [
      "2\n",
      "4\n",
      "6\n",
      "8\n",
      "10\n",
      "12\n",
      "14\n"
     ]
    }
   ],
   "source": [
    "#for loop\n",
    "my_list=[1,2,3,4,5,6,7,8,9,10,12,14]\n",
    "for num in my_list:\n",
    "    if num%2==0:\n",
    "        print(num)\n"
   ]
  },
  {
   "cell_type": "code",
   "execution_count": 41,
   "id": "af631488-f421-4ad6-bb6a-6048fff140a6",
   "metadata": {},
   "outputs": [
    {
     "name": "stdin",
     "output_type": "stream",
     "text": [
      "Enter start of range:  1\n",
      "Enter end of range:  100\n"
     ]
    },
    {
     "name": "stdout",
     "output_type": "stream",
     "text": [
      "Prime numbers between 1 and 100 are:\n",
      "2 3 5 7 11 13 17 19 23 29 31 37 41 43 47 53 59 61 67 71 73 79 83 89 97 \n"
     ]
    }
   ],
   "source": [
    "start = int(input(\"Enter start of range: \"))\n",
    "end = int(input(\"Enter end of range: \"))\n",
    "\n",
    "print(f\"Prime numbers between {start} and {end} are:\")\n",
    "\n",
    "for num in range(start, end + 1):\n",
    "    if num > 1:  \n",
    "        for i in range(2, num):  \n",
    "            if num % i == 0:\n",
    "                break\n",
    "        else:\n",
    "            print(num, end=\" \")\n",
    "\n",
    "print()"
   ]
  },
  {
   "cell_type": "code",
   "execution_count": 44,
   "id": "b70b8164-52cc-47eb-a711-db3b822341f0",
   "metadata": {},
   "outputs": [
    {
     "name": "stdout",
     "output_type": "stream",
     "text": [
      "sorted list in ascending order: [7, 8, 9, 10, 11, 12, 14]\n"
     ]
    }
   ],
   "source": [
    "list = [11,12,14,7,8,9,10]\n",
    "for i in range(len(list)):\n",
    "    for j in range (0,len(list)-i-1):\n",
    "        if list[j]>list[j+1]:\n",
    "            list[j],list[j+1] = list[j+1],list[j]\n",
    "print(\"sorted list in ascending order:\",list)\n",
    "    "
   ]
  },
  {
   "cell_type": "code",
   "execution_count": 1,
   "id": "38110812-a09d-4a7e-9a9f-cadb2a33a865",
   "metadata": {},
   "outputs": [
    {
     "name": "stdin",
     "output_type": "stream",
     "text": [
      "Enter a sentence:  walchand institute of technology\n"
     ]
    },
    {
     "name": "stdout",
     "output_type": "stream",
     "text": [
      "Input Sentence: walchand institute of technology\n"
     ]
    },
    {
     "ename": "NameError",
     "evalue": "name 'reverse_Sentence' is not defined",
     "output_type": "error",
     "traceback": [
      "\u001b[1;31m---------------------------------------------------------------------------\u001b[0m",
      "\u001b[1;31mNameError\u001b[0m                                 Traceback (most recent call last)",
      "Cell \u001b[1;32mIn[1], line 10\u001b[0m\n\u001b[0;32m      8\u001b[0m         reversed_str \u001b[38;5;241m+\u001b[39m\u001b[38;5;241m=\u001b[39m ch\n\u001b[0;32m      9\u001b[0m     \u001b[38;5;28;01mreturn\u001b[39;00m reverse_str\n\u001b[1;32m---> 10\u001b[0m reversed_Sentence\u001b[38;5;241m=\u001b[39m\u001b[43mreverse_Sentence\u001b[49m(sentence)\n\u001b[0;32m     11\u001b[0m \u001b[38;5;28mprint\u001b[39m(\u001b[38;5;124m\"\u001b[39m\u001b[38;5;124mreverse_sentence:\u001b[39m\u001b[38;5;124m\"\u001b[39m,reversed_sentence)\n",
      "\u001b[1;31mNameError\u001b[0m: name 'reverse_Sentence' is not defined"
     ]
    }
   ],
   "source": [
    "sentence = input(\"Enter a sentence: \")\n",
    "print(\"Input Sentence:\", sentence)\n",
    "\n",
    "# Reverse the sentence\n",
    "def reverse_sentence(sentence):\n",
    "    reversed_str = \"\"\n",
    "    for ch in sentence[::-1]:\n",
    "        reversed_str += ch\n",
    "    return reverse_str\n",
    "reversed_Sentence=reverse_Sentence(sentence)\n",
    "print(\"reverse_sentence:\",reversed_sentence)"
   ]
  },
  {
   "cell_type": "code",
   "execution_count": 10,
   "id": "bf5a6c9a-2f8d-4965-a653-47bfcdd15102",
   "metadata": {},
   "outputs": [
    {
     "name": "stdout",
     "output_type": "stream",
     "text": [
      "40\n"
     ]
    }
   ],
   "source": [
    "s= \"walchand institute of technology solapur\"\n",
    "def string_length(s):\n",
    "    count=0\n",
    "    for char in s:\n",
    "        count +=1\n",
    "    return count\n",
    "\n",
    "print(string_length(s))\n"
   ]
  },
  {
   "cell_type": "code",
   "execution_count": 14,
   "id": "a6b30797-957f-4979-9080-ba37ff275eb2",
   "metadata": {},
   "outputs": [
    {
     "name": "stdout",
     "output_type": "stream",
     "text": [
      "6\n"
     ]
    }
   ],
   "source": [
    "str = \"shreya\"\n",
    "count=0\n",
    "for i in str:\n",
    "      count +=1\n",
    "  \n",
    "print(count)"
   ]
  },
  {
   "cell_type": "code",
   "execution_count": 18,
   "id": "9e57fd2a-9ef4-4204-909a-c05f2b99ecf6",
   "metadata": {},
   "outputs": [
    {
     "name": "stdout",
     "output_type": "stream",
     "text": [
      " walchand  \n"
     ]
    }
   ],
   "source": [
    "str = \" WALCHAND  \"\n",
    "new_str = \"\"\n",
    "for i in str:\n",
    "    new_str +=i.lower()\n",
    "print(new_str)\n",
    "    \n"
   ]
  },
  {
   "cell_type": "code",
   "execution_count": 19,
   "id": "d38da982-1832-45fa-9740-c7f919ae8f35",
   "metadata": {},
   "outputs": [
    {
     "name": "stdout",
     "output_type": "stream",
     "text": [
      "WALCHAND\n"
     ]
    }
   ],
   "source": [
    "str = \"walchand\"\n",
    "new_str=\"\"\n",
    "for i in str:\n",
    "    new_str +=i.upper()\n",
    "print(new_str)"
   ]
  },
  {
   "cell_type": "code",
   "execution_count": 4,
   "id": "78c6b296-8338-47b0-b3a9-ca76a5adebd3",
   "metadata": {},
   "outputs": [
    {
     "name": "stdout",
     "output_type": "stream",
     "text": [
      "2\n",
      "4\n",
      "6\n"
     ]
    }
   ],
   "source": [
    "#while else loop\n",
    "#divisible by 2\n",
    "list = [1,2,3,4,5,6]\n",
    "index = 0\n",
    "while index < len(list):\n",
    "        \n",
    "       if list[index]%2==0:\n",
    "           print(list[index])\n",
    "       index = index+1  \n",
    "  \n",
    "\n"
   ]
  },
  {
   "cell_type": "code",
   "execution_count": 6,
   "id": "459ee28d-9b94-4005-bad5-8303f8a494eb",
   "metadata": {},
   "outputs": [
    {
     "name": "stdin",
     "output_type": "stream",
     "text": [
      "enter the number 23\n"
     ]
    },
    {
     "name": "stdout",
     "output_type": "stream",
     "text": [
      "num is prime number\n"
     ]
    }
   ],
   "source": [
    "#prime number\n",
    "num = int(input(\"enter the number\"))\n",
    "i = 2\n",
    "while i<num:\n",
    "    if num % i == 0:\n",
    "        print(\"num is not a prime number\")\n",
    "        break\n",
    "    i=i+1\n",
    "else:\n",
    "    print(\"num is prime number\")\n",
    "    \n",
    "    \n",
    "    "
   ]
  },
  {
   "cell_type": "code",
   "execution_count": 5,
   "id": "8c441cf9-d50f-40a0-b18c-f0178a83862f",
   "metadata": {},
   "outputs": [
    {
     "name": "stdin",
     "output_type": "stream",
     "text": [
      "Enter start of range:  11\n",
      "Enter end of range:  20\n"
     ]
    },
    {
     "name": "stdout",
     "output_type": "stream",
     "text": [
      "11\n",
      "13\n",
      "17\n",
      "19\n"
     ]
    }
   ],
   "source": [
    "start = int(input(\"Enter start of range: \"))\n",
    "end = int(input(\"Enter end of range: \"))\n",
    "num = start\n",
    "while num<=end:\n",
    "    if num>1:\n",
    "        i =2\n",
    "        while i<num:\n",
    "          if num % i ==0:\n",
    "            \n",
    "            break\n",
    "          i = i + 1\n",
    "        else:\n",
    "           print(num)\n",
    "    num = num + 1"
   ]
  },
  {
   "cell_type": "code",
   "execution_count": 7,
   "id": "37c8fe68-cb0d-44ff-b631-c0848d3dabff",
   "metadata": {},
   "outputs": [
    {
     "name": "stdout",
     "output_type": "stream",
     "text": [
      "ayerhs\n"
     ]
    }
   ],
   "source": [
    "#reverse the string\n",
    "s = \"shreya\"\n",
    "reversed_str = \"\"\n",
    "index = len(s)-1\n",
    "while index>=0:\n",
    "    reversed_str = reversed_str + s[index]\n",
    "    index= index - 1\n",
    "print(reversed_str)\n",
    "    "
   ]
  },
  {
   "cell_type": "code",
   "execution_count": null,
   "id": "f068ecc4-bf3f-452d-b4f1-aaf2443abfbf",
   "metadata": {},
   "outputs": [],
   "source": []
  }
 ],
 "metadata": {
  "kernelspec": {
   "display_name": "Python 3 (ipykernel)",
   "language": "python",
   "name": "python3"
  },
  "language_info": {
   "codemirror_mode": {
    "name": "ipython",
    "version": 3
   },
   "file_extension": ".py",
   "mimetype": "text/x-python",
   "name": "python",
   "nbconvert_exporter": "python",
   "pygments_lexer": "ipython3",
   "version": "3.12.4"
  }
 },
 "nbformat": 4,
 "nbformat_minor": 5
}
