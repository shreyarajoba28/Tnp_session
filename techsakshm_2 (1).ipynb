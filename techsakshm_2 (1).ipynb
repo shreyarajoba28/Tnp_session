{
 "cells": [
  {
   "cell_type": "code",
   "execution_count": 1,
   "id": "e06319b5-15ca-4315-8b54-98da417dd9e7",
   "metadata": {},
   "outputs": [
    {
     "name": "stdout",
     "output_type": "stream",
     "text": [
      "shreya\n"
     ]
    }
   ],
   "source": [
    "#function\n",
    "def function():\n",
    "    print(\"shreya\")\n",
    "function()"
   ]
  },
  {
   "cell_type": "code",
   "execution_count": 2,
   "id": "4eed606c-3a48-4223-a76b-9f002ac3692a",
   "metadata": {},
   "outputs": [
    {
     "name": "stdout",
     "output_type": "stream",
     "text": [
      "my fav fruit is :banana\n"
     ]
    }
   ],
   "source": [
    "def function(*fruit):\n",
    "    print(\"my fav fruit is :\" + str[2])\n",
    "str = ['apple','orange','banana']\n",
    "function()"
   ]
  },
  {
   "cell_type": "code",
   "execution_count": 3,
   "id": "af6c3dd7-952a-4e5b-b741-811d40dcc648",
   "metadata": {},
   "outputs": [
    {
     "data": {
      "text/plain": [
       "8"
      ]
     },
     "execution_count": 3,
     "metadata": {},
     "output_type": "execute_result"
    }
   ],
   "source": [
    "def add_numbers(a,b):\n",
    "    result = a+b\n",
    "    return result\n",
    "add_numbers(5,3)\n"
   ]
  },
  {
   "cell_type": "code",
   "execution_count": 4,
   "id": "83ce9dad-1bef-4c8e-b138-ec70ec111e16",
   "metadata": {},
   "outputs": [
    {
     "name": "stdout",
     "output_type": "stream",
     "text": [
      "Toyota 2016\n"
     ]
    }
   ],
   "source": [
    "#oops concepts\n",
    "class car:\n",
    "    def __init__(self,modelname,year):\n",
    "       self.modelname = modelname\n",
    "       self.year=year\n",
    "    def display(self):\n",
    "        print(self.modelname,self.year)\n",
    "c1=car(\"Toyota\",2016)\n",
    "c1.display()\n"
   ]
  },
  {
   "cell_type": "code",
   "execution_count": 5,
   "id": "afd15c04-5d38-40df-81d1-e2f5ad8c159b",
   "metadata": {},
   "outputs": [
    {
     "name": "stdout",
     "output_type": "stream",
     "text": [
      "AI 30\n",
      "os 25\n",
      "cc 22\n"
     ]
    }
   ],
   "source": [
    "class Result :\n",
    "    def __init__(self,subject,marks):\n",
    "        self.subject = subject\n",
    "        self.marks=marks\n",
    "    def display(self):\n",
    "        print(self.subject,self.marks)\n",
    "c1=Result(\"AI\",30)\n",
    "c2=Result(\"os\",25)\n",
    "c3=Result(\"cc\",22)\n",
    "c1.display()\n",
    "c2.display()\n",
    "c3.display()"
   ]
  },
  {
   "cell_type": "code",
   "execution_count": 6,
   "id": "ef23e881-a769-4c13-b7eb-86510238c166",
   "metadata": {},
   "outputs": [
    {
     "name": "stdout",
     "output_type": "stream",
     "text": [
      "Rodger is a mammal\n",
      "Tommy is a mammal\n",
      "my name is Rodger\n",
      "my name is Tommy\n"
     ]
    }
   ],
   "source": [
    "class Dog:\n",
    "    attr1 = \"mammal\"\n",
    "    def __init__(self,name):\n",
    "        self.name = name\n",
    "Rodger = Dog(\"Rodger\")\n",
    "Tommy = Dog(\"Tommy\")\n",
    "\n",
    "print(\"Rodger is a {}\".format(Rodger.__class__.attr1))\n",
    "print(\"Tommy is a {}\".format(Tommy.__class__.attr1))\n",
    "\n",
    "print(\"my name is {}\".format(Rodger.name))\n",
    "print(\"my name is {}\".format(Tommy.name))\n",
    "\n"
   ]
  },
  {
   "cell_type": "code",
   "execution_count": 7,
   "id": "8990a238-59a0-4e50-b627-651865d3ed5a",
   "metadata": {},
   "outputs": [],
   "source": [
    "#example of a function\n",
    "def say_hello():\n",
    "    print('hello edunet')"
   ]
  },
  {
   "cell_type": "code",
   "execution_count": 8,
   "id": "e449afdd-a145-42b2-93c3-79d5a4d3fddb",
   "metadata": {},
   "outputs": [
    {
     "name": "stdout",
     "output_type": "stream",
     "text": [
      "hello edunet\n"
     ]
    }
   ],
   "source": [
    "say_hello()"
   ]
  },
  {
   "cell_type": "code",
   "execution_count": 9,
   "id": "dee0322e-c1fd-4c99-8642-ce4e77fb13c7",
   "metadata": {},
   "outputs": [
    {
     "data": {
      "text/plain": [
       "5"
      ]
     },
     "execution_count": 9,
     "metadata": {},
     "output_type": "execute_result"
    }
   ],
   "source": [
    "def add_num(num1,num2):\n",
    "    return num1+num2\n",
    "add_num(2,3)"
   ]
  },
  {
   "cell_type": "code",
   "execution_count": 10,
   "id": "ef922dea-2114-42e8-9540-b39bed68b606",
   "metadata": {},
   "outputs": [
    {
     "data": {
      "text/plain": [
       "3"
      ]
     },
     "execution_count": 10,
     "metadata": {},
     "output_type": "execute_result"
    }
   ],
   "source": [
    "def sub_num(num1,num2):\n",
    "    return num1-num2\n",
    "sub_num(6,3)"
   ]
  },
  {
   "cell_type": "code",
   "execution_count": 11,
   "id": "a4505b8b-6af9-4dd8-80a8-00dc61fc2e5c",
   "metadata": {},
   "outputs": [],
   "source": [
    "def check_even_list(num_list):\n",
    "    even_numbers = []\n",
    "\n",
    "    for number in num_list:\n",
    "        if number % 2 == 0:\n",
    "           even_numbers.append(number)\n",
    "        else:\n",
    "            pass\n",
    "    return even_numbers"
   ]
  },
  {
   "cell_type": "code",
   "execution_count": 12,
   "id": "a1066128-1b45-4609-976d-5d7e74fe3ef9",
   "metadata": {},
   "outputs": [
    {
     "data": {
      "text/plain": [
       "[2, 4, 6]"
      ]
     },
     "execution_count": 12,
     "metadata": {},
     "output_type": "execute_result"
    }
   ],
   "source": [
    "check_even_list([1,2,3,4,5,6])"
   ]
  },
  {
   "cell_type": "code",
   "execution_count": 20,
   "id": "fc6a997d-f40f-45a4-8354-11bf75ef3442",
   "metadata": {},
   "outputs": [
    {
     "name": "stdout",
     "output_type": "stream",
     "text": [
      "Rahul\n",
      "886012\n",
      "My name is Rahul\n",
      "idnumber:886012\n",
      "post:Intern\n"
     ]
    }
   ],
   "source": [
    "class person(object):\n",
    "    def __init__(self,name,idnumber):\n",
    "        self.name = name\n",
    "        self.idnumber = idnumber\n",
    "    def display(self):\n",
    "        print(self.name)\n",
    "        print(self.idnumber)\n",
    "    def details(self):\n",
    "        print(\"My name is {}\".format(self.name))\n",
    "        print(\"Idnumber:{}\".format(self.idnumber))\n",
    "class Employee(person):\n",
    "    def __init__(self,name,idnumber,salary,post):\n",
    "        self.salary = salary\n",
    "        self.post = post\n",
    "        person.__init__(self,name,idnumber)\n",
    "    def details(self):\n",
    "        print(\"My name is {}\".format(self.name))\n",
    "        print(\"idnumber:{}\".format(self.idnumber))\n",
    "        print(\"post:{}\".format(self.post))\n",
    "a=Employee('Rahul',886012,200000,\"Intern\")\n",
    "a.display()\n",
    "a.details()\n",
    "\n",
    "        "
   ]
  },
  {
   "cell_type": "code",
   "execution_count": 21,
   "id": "dbcb465c-e6b8-43d1-a297-e0e6e072a1d4",
   "metadata": {},
   "outputs": [
    {
     "name": "stdout",
     "output_type": "stream",
     "text": [
      "Dad's method2\n",
      "mom's method4\n",
      "Dad's method1\n",
      "mom's method3\n"
     ]
    }
   ],
   "source": [
    "# Dad class\n",
    "class Dad:\n",
    "    def method1(self):\n",
    "        print(\"Dad's method1\")\n",
    "\n",
    "    def method2(self):\n",
    "        print(\"Dad's method2\")\n",
    "\n",
    "# Mom class\n",
    "class mom:\n",
    "    def method3(self):\n",
    "        print(\"mom's method3\")\n",
    "\n",
    "    def method4(self):\n",
    "        print(\"mom's method4\")\n",
    "\n",
    "# Child class\n",
    "class child(Dad, mom):\n",
    "    def child_method(self):\n",
    "        self.method1()  \n",
    "        self.method3()  \n",
    "\n",
    "# GrandChild class\n",
    "class grandchild(child):\n",
    "    def grandchild_method(self):\n",
    "        self.method2()       \n",
    "        self.method4()       \n",
    "        self.child_method()  \n",
    "\n",
    "\n",
    "gc = grandchild()\n",
    "gc.grandchild_method()\n"
   ]
  },
  {
   "cell_type": "code",
   "execution_count": 22,
   "id": "cddbfb7e-f6fc-485c-98de-e00e65a501cf",
   "metadata": {},
   "outputs": [
    {
     "name": "stdout",
     "output_type": "stream",
     "text": [
      "game1 Game: cricket, Players: 11\n",
      "game2 Game: volleyball, Players: 6\n"
     ]
    }
   ],
   "source": [
    "class Game:\n",
    "    def __init__(self,gamename,players):\n",
    "        self.gamename = gamename\n",
    "        self.players=players\n",
    "    def display(self):\n",
    "        print(f\"Game: {self.gamename}, Players: {self.players}\")\n",
    "\n",
    "\n",
    "class game1(Game):\n",
    "     def game1_g1(self):\n",
    "         print(f\"game1 Game: {self.gamename}, Players: {self.players}\") \n",
    "class game2(Game):\n",
    "    def game2_g2(self):\n",
    "        print(f\"game2 Game: {self.gamename}, Players: {self.players}\")\n",
    "        \n",
    "cr = game1(\"cricket\", 11)\n",
    "cr.game1_g1()\n",
    "\n",
    "vo = game2(\"volleyball\", 6)\n",
    "vo.game2_g2()\n",
    "\n",
    "\n",
    "\n"
   ]
  },
  {
   "cell_type": "code",
   "execution_count": 50,
   "id": "0e4711f8-b23d-42bb-90c8-77dadf77f4a9",
   "metadata": {},
   "outputs": [
    {
     "name": "stdin",
     "output_type": "stream",
     "text": [
      "Enter the a:  40\n",
      "Enter the b:  45\n",
      "Enter operation (add/sub/mult/div):  div\n"
     ]
    },
    {
     "name": "stdout",
     "output_type": "stream",
     "text": [
      "Result: 0.8888888888888888\n"
     ]
    }
   ],
   "source": [
    "a = int(input(\"Enter the a: \"))\n",
    "b = int(input(\"Enter the b: \"))\n",
    "\n",
    "def add_num(a, b):\n",
    "    return a + b\n",
    "\n",
    "def sub_num(a, b):\n",
    "    return a - b\n",
    "\n",
    "def mult_num(a, b):\n",
    "    return a * b\n",
    "def div_num(a,b):\n",
    "    return a/b\n",
    "#calculate function\n",
    "\n",
    "def calculate(operation, a, b):\n",
    "    operations = {'add': add_num, 'sub': sub_num, 'mult': mult_num, 'div': div_num}\n",
    "    if operation in operations:\n",
    "        return operations[operation](a, b)\n",
    "    else:\n",
    "        return \"Invalid operation\"\n",
    "\n",
    "op = input(\"Enter operation (add/sub/mult/div): \").strip().lower()\n",
    "result = calculate(op, a, b)\n",
    "print(\"Result:\", result)\n"
   ]
  },
  {
   "cell_type": "code",
   "execution_count": 6,
   "id": "7db450bf-4ff4-4d4a-911d-3e11a6b7a969",
   "metadata": {},
   "outputs": [
    {
     "name": "stdout",
     "output_type": "stream",
     "text": [
      "head\n"
     ]
    }
   ],
   "source": [
    "import random as rand\n",
    "\n",
    "rand.randint(1,6)\n",
    "\n",
    "if toss == 1:\n",
    "    print(\"tail\")\n",
    "else:\n",
    "    print(\"head\")"
   ]
  },
  {
   "cell_type": "code",
   "execution_count": 7,
   "id": "fcd678f9-b2e8-4062-aa20-a7b0ef9cebbe",
   "metadata": {},
   "outputs": [
    {
     "data": {
      "text/plain": [
       "0.059699995825428065"
      ]
     },
     "execution_count": 7,
     "metadata": {},
     "output_type": "execute_result"
    }
   ],
   "source": [
    "import random as rand\n",
    "rand.random()"
   ]
  },
  {
   "cell_type": "code",
   "execution_count": 11,
   "id": "5daed208-f490-4634-8320-0f0e59d312c0",
   "metadata": {},
   "outputs": [
    {
     "data": {
      "text/plain": [
       "'per2'"
      ]
     },
     "execution_count": 11,
     "metadata": {},
     "output_type": "execute_result"
    }
   ],
   "source": [
    "import random as rand\n",
    "names = [\"per1\",\"per2\",\"per3\"]\n",
    "rand.choice(names)"
   ]
  },
  {
   "cell_type": "code",
   "execution_count": 19,
   "id": "0bf55516-6871-4202-9b99-e34ffce4b585",
   "metadata": {},
   "outputs": [
    {
     "name": "stdout",
     "output_type": "stream",
     "text": [
      "The Name of friend who pay the bill is :  ishwaree\n"
     ]
    }
   ],
   "source": [
    "#example for paying the bill randomly by friends \n",
    "import random as rand\n",
    "friends = [\"shreya\",\"sakshi\",\"ishwaree\",\"rutuja\"]\n",
    "index = rand.randint(0,len(friends)-1)\n",
    "print(\"The Name of friend who pay the bill is : \",friends[index])\n",
    "\n"
   ]
  },
  {
   "cell_type": "code",
   "execution_count": 2,
   "id": "f9fc849e-b319-4925-bdd8-1d3219b14e36",
   "metadata": {},
   "outputs": [
    {
     "name": "stdin",
     "output_type": "stream",
     "text": [
      "enter the number: 5\n",
      "enter the number: 8\n",
      "enter the number: 3\n"
     ]
    },
    {
     "name": "stdout",
     "output_type": "stream",
     "text": [
      "congratulations!! Your number matched\n"
     ]
    }
   ],
   "source": [
    "import random as rand \n",
    "fixed_number = rand.randint(1,10)\n",
    "chances = 3\n",
    "for i in range (chances):\n",
    "    user_input=int(input(\"enter the number:\"))\n",
    "    if user_input == fixed_number:\n",
    "        print(\"congratulations!! Your number matched\")\n",
    "        break\n",
    "    else:\n",
    "        (\"not matched. Try again\")\n",
    "else:\n",
    "    print(\"No, the number was not matched. The correct number was:\", fixed_number)"
   ]
  },
  {
   "cell_type": "code",
   "execution_count": 5,
   "id": "ab11ecee-a5ea-4a93-b12d-bd25563aea02",
   "metadata": {},
   "outputs": [
    {
     "name": "stdout",
     "output_type": "stream",
     "text": [
      "[4, 5, 6]\n",
      "[4, 5, 6]\n"
     ]
    }
   ],
   "source": [
    "list1 = [1,2,3]\n",
    "list2 = [4,5,6]\n",
    "list1 = list2\n",
    "\n",
    "print(list1)\n",
    "print(list2)"
   ]
  },
  {
   "cell_type": "code",
   "execution_count": 15,
   "id": "b1f3d54c-0155-492c-8003-c4c30c935d67",
   "metadata": {},
   "outputs": [
    {
     "name": "stdin",
     "output_type": "stream",
     "text": [
      "Enter your password: shreya@1234\n"
     ]
    },
    {
     "name": "stdout",
     "output_type": "stream",
     "text": [
      "password must contain at least one upper case letter\n"
     ]
    }
   ],
   "source": [
    "import re\n",
    "def check_password(password):\n",
    "    if not(8 < len(password) <16):\n",
    "        return \"password length must be greater than 8 and less 16 character.\"\n",
    "    has_upper = has_lower = has_digit = has_special = False\n",
    "    special_characters = \"!@#$%^&*(),.?\\\":{}|<>\"\n",
    "    for char in password:\n",
    "        if char.isupper():\n",
    "            has_upper= True\n",
    "        elif char.islower():\n",
    "            has_lower=True\n",
    "        elif char.isdigit():\n",
    "            has_digit=True\n",
    "        elif char in special_characters:\n",
    "            has_special= True\n",
    "    if not has_upper:\n",
    "        return\"password must contain at least one upper case letter\"\n",
    "    if not has_lower:\n",
    "        return\"password must contain at least one lower case letter\"\n",
    "    if not has_digit:\n",
    "        return\"password must contain at least one number\"\n",
    "    if not has_special:\n",
    "        return\"password must contain at least one special character\"\n",
    "    return\"password is strong and meet all condition\"\n",
    "user_password=input(\"Enter your password:\" )\n",
    "result = check_password(user_password)\n",
    "print(result)\n",
    "        \n",
    "        "
   ]
  },
  {
   "cell_type": "code",
   "execution_count": 22,
   "id": "fc9293d3-3f62-49c7-a87b-3f576601de6e",
   "metadata": {},
   "outputs": [
    {
     "name": "stdin",
     "output_type": "stream",
     "text": [
      "Enter the number of values:  10\n",
      "Enter a number:  1\n",
      "Enter a number:  1\n",
      "Enter a number:  1\n",
      "Enter a number:  1\n",
      "Enter a number:  1\n",
      "Enter a number:  2\n",
      "Enter a number:  2\n",
      "Enter a number:  2\n",
      "Enter a number:  2\n",
      "Enter a number:  1\n"
     ]
    },
    {
     "name": "stdout",
     "output_type": "stream",
     "text": [
      "Sum of unique numbers: 3\n"
     ]
    }
   ],
   "source": [
    "#addition of non duplicate numbers in sets\n",
    "def add_unique_numbers():\n",
    "    unique_numbers = set() \n",
    "    total = 0\n",
    "\n",
    "    n = int(input(\"Enter the number of values: \"))  \n",
    "\n",
    "    for _ in range(n):\n",
    "        value = int(input(\"Enter a number: \"))  \n",
    "\n",
    "        if value not in unique_numbers:  \n",
    "            unique_numbers.add(value) \n",
    "            total = total + value  \n",
    "\n",
    "    print(\"Sum of unique numbers:\", total)\n",
    "\n",
    "add_unique_numbers()\n"
   ]
  },
  {
   "cell_type": "code",
   "execution_count": 31,
   "id": "a14ca530-a41b-45b7-9c12-6de9ed185915",
   "metadata": {},
   "outputs": [
    {
     "name": "stdin",
     "output_type": "stream",
     "text": [
      "Enter a string: sshhrreeyyaa\n",
      "Enter a char for counting: a\n"
     ]
    },
    {
     "name": "stdout",
     "output_type": "stream",
     "text": [
      "'a' appears 2 times in the given string.\n"
     ]
    }
   ],
   "source": [
    "#occrences of char\n",
    "def occurrance_character(string,char):\n",
    "    count = 0\n",
    "    for c in string:\n",
    "        if c == char:\n",
    "            count = count + 1\n",
    "    return count\n",
    "string = input(\"Enter a string:\")\n",
    "char=input(\"Enter a char for counting:\")\n",
    "\n",
    "occurrances = occurrance_character(string,char)\n",
    "print(f\"'{char}' appears {occurrances} times in the given string.\")\n",
    "\n",
    "    \n",
    "    "
   ]
  },
  {
   "cell_type": "code",
   "execution_count": 37,
   "id": "1de5890f-b6cb-4de8-8323-4b71f6de4f85",
   "metadata": {},
   "outputs": [
    {
     "name": "stdin",
     "output_type": "stream",
     "text": [
      "enter a number 3\n"
     ]
    },
    {
     "name": "stdout",
     "output_type": "stream",
     "text": [
      "fizz\n"
     ]
    }
   ],
   "source": [
    "i = int(input(\"enter a number:\"))\n",
    "\n",
    "    \n",
    "if i%3 == 0 and i %5==0:\n",
    "            print(\"fizzbuzz\")\n",
    "elif i%3==0:\n",
    "            print(\"fizz\")\n",
    "elif i%5==0:\n",
    "            print(\"buzz\")\n",
    "else:\n",
    "            print(i)\n",
    "\n",
    "    "
   ]
  },
  {
   "cell_type": "code",
   "execution_count": null,
   "id": "28e863b6-35d8-4152-a87d-014eb1f615e7",
   "metadata": {},
   "outputs": [],
   "source": []
  }
 ],
 "metadata": {
  "kernelspec": {
   "display_name": "Python 3 (ipykernel)",
   "language": "python",
   "name": "python3"
  },
  "language_info": {
   "codemirror_mode": {
    "name": "ipython",
    "version": 3
   },
   "file_extension": ".py",
   "mimetype": "text/x-python",
   "name": "python",
   "nbconvert_exporter": "python",
   "pygments_lexer": "ipython3",
   "version": "3.12.4"
  }
 },
 "nbformat": 4,
 "nbformat_minor": 5
}
